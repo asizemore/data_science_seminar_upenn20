{
 "cells": [
  {
   "cell_type": "markdown",
   "metadata": {},
   "source": [
    "# Data visualization part 2\n",
    "\n",
    "Below we'll cover a few more advanced packages for data visualization. First, we'll show how to plot a network using networkx. Then we'll show how to add interactivity to your plot with bokeh."
   ]
  },
  {
   "cell_type": "code",
   "execution_count": null,
   "metadata": {},
   "outputs": [],
   "source": [
    "import sys\n",
    "import os\n",
    "import numpy as np\n",
    "import matplotlib.pyplot as plt\n",
    "import scipy.io as sio\n",
    "from scipy import stats\n",
    "import seaborn as sns\n",
    "import networkx as nx"
   ]
  },
  {
   "cell_type": "markdown",
   "metadata": {},
   "source": [
    "### Colormap challenge\n",
    "What type of colormap should we use for the following heatmap? Check [here](https://matplotlib.org/tutorials/colors/colormaps.html) for more colormaps."
   ]
  },
  {
   "cell_type": "code",
   "execution_count": null,
   "metadata": {},
   "outputs": [],
   "source": [
    "rand_adj = np.random.randint(low=-5,high=5,size=(5,5))   #1\n",
    "# rand_adj = np.random.randint(low=4, high=20, size=(5,5))   #2\n",
    "# rand_adj = np.random.rand(5,5)    #3\n",
    "# rand_adj = np.random.randint(low=0, high = 3, size=(5,5))    #4\n",
    "\n",
    "print(rand_adj)"
   ]
  },
  {
   "cell_type": "code",
   "execution_count": null,
   "metadata": {},
   "outputs": [],
   "source": [
    "# Some example colormaps\n",
    "diverging = \"BrBG\"\n",
    "sequential = \"Blues\"\n",
    "qualitative = \"Set2\"\n",
    "\n",
    "sns.heatmap(rand_adj, cbar_kws={'label': 'Streamline count'}, cmap=qualitative)"
   ]
  },
  {
   "cell_type": "markdown",
   "metadata": {},
   "source": [
    "## Understanding the brain\n",
    "\n",
    "The brain is, of course, extremely complicated. One way we try to understand how it might work is through studying connectivity patterns. The brain is anotomically partitioned into numerous regions, in the same way that the US is split up into 50 states. To understand how computations happen, we record the physical wiring between brain regions. This is akin to recording highways and other traffic routes between US states. So if we have two regions, say a visual region and a motor (movement) region, we can infer that they might communicate frequently if they have a strong wired connection running between them.\n",
    "\n",
    "Below we will use data available (here)[https://complexsystemsupenn.com/codedata]. You can also download the data on Canvas (the data.zip folder)."
   ]
  },
  {
   "cell_type": "code",
   "execution_count": null,
   "metadata": {},
   "outputs": [],
   "source": [
    "# Load in one brain\n",
    "example_number = 1    # Pick any number from 0-23\n",
    "\n",
    "# Load in one scan as brain_example. \n",
    "brain_example = sio.loadmat(f'data/brain_{example_number}.mat')\n",
    "\n",
    "# The brain_example has the adjacency matrix stored as 'adj'\n",
    "brain_example = brain_example['adj']\n",
    "\n",
    "# Symmetrize and set diagonal to 0\n",
    "brain_example = 0.5*(brain_example + np.transpose(brain_example))\n",
    "np.fill_diagonal(brain_example,0)\n",
    "\n",
    "# From this brain, we can find the number of nodes, call it n_nodes\n",
    "brain_example.shape\n",
    "n_nodes = brain_example.shape[0]\n",
    "\n",
    "# Look at the adjacency matrix\n",
    "\n",
    "# With seaborn\n",
    "fig_0 = sns.heatmap(brain_example, cbar_kws={'label': 'Streamline count'}, cmap=\"YlGnBu\")\n",
    "fig_0.set(xlabel = 'Nodes', ylabel = 'Nodes', title = f'Adjacency matrix for individual {example_number}');\n"
   ]
  },
  {
   "cell_type": "code",
   "execution_count": null,
   "metadata": {},
   "outputs": [],
   "source": [
    "# What does the network itself actually look like?\n",
    "# Create a weighted graph using networkx\n",
    "\n",
    "G_example = nx.from_numpy_array(brain_example, parallel_edges = False)\n",
    "pos = nx.circular_layout(G_example)\n",
    "colors = [d['weight'] for u,v,d in G_example.edges(data = True)]\n",
    "\n",
    "nx.draw(G_example, pos, node_color='#344555', edge_color=colors, node_size = 30,\n",
    "        width=2, edge_cmap=plt.cm.Blues, with_labels=False)\n",
    "plt.show()"
   ]
  },
  {
   "cell_type": "code",
   "execution_count": null,
   "metadata": {},
   "outputs": [],
   "source": [
    "# Yikes that was not so helpful. Let's read in the coordinates of the actual brain data.\n",
    "\n",
    "coordinates_mat = sio.loadmat('data/LP_coordinates.mat')\n",
    "x_coord = coordinates_mat['X']\n",
    "y_coord = coordinates_mat['Y']\n",
    "z_coord = coordinates_mat['Z']"
   ]
  },
  {
   "cell_type": "code",
   "execution_count": null,
   "metadata": {},
   "outputs": [],
   "source": [
    "# Now we can plot!\n",
    "\n",
    "# Need to assign node locations\n",
    "for node in G_example.nodes():\n",
    "    G_example.nodes[node]['pos'] = [y_coord[node][0], z_coord[node][0]]\n",
    "    \n",
    "\n",
    "pos = nx.get_node_attributes(G_example,'pos')\n",
    "nx.draw_networkx_edges(G_example,pos,alpha=0.6,edge_color=colors,edge_cmap=plt.cm.Blues)\n",
    "\n",
    "# Play with different colormaps (https://matplotlib.org/3.1.0/tutorials/colors/colormaps.html). \n",
    "# Which colormap is the most helpful?\n",
    "nx.draw_networkx_nodes(G_example,pos, node_size = 80, node_color = '#344555')\n",
    "plt.axis('off')\n",
    "plt.show()"
   ]
  },
  {
   "cell_type": "markdown",
   "metadata": {},
   "source": [
    "## Interactivity and bokeh\n",
    "\n",
    "Sometimes you might want the ability to explore your data, or set up your visualization so that others can explore it. This requires not a static plot but an interactive plot in which users can, perhaps, click, drag, zoom, pan, over, or otherwise manipulate the image shown.\n",
    "\n",
    "Importantly, there are multiple great packages available for interactive plots. In python, the most common are bokeh and plotly. Both are excellent, but we'll stick with just one package today. See (here) for a great plotly tutorial.\n",
    "\n"
   ]
  },
  {
   "cell_type": "code",
   "execution_count": null,
   "metadata": {},
   "outputs": [],
   "source": [
    "# Import packages\n",
    "import bokeh as bk\n",
    "from bokeh.palettes import Category20b\n",
    "from bokeh.palettes import Magma\n",
    "from bokeh.palettes import Viridis\n",
    "from bokeh.plotting import figure, output_file, show\n",
    "from bokeh.layouts import gridplot\n",
    "from bokeh.io import output_notebook\n",
    "output_notebook()\n",
    "\n",
    "print(bk.__version__)"
   ]
  },
  {
   "cell_type": "code",
   "execution_count": null,
   "metadata": {},
   "outputs": [],
   "source": [
    "# Remember the Gaussian distribution? Let's build an interactive plot so that we can better understand the parameters mu and sigma\n",
    "\n",
    "# Define five values of mu, and five of sigma\n",
    "mu_values = [-2, -1, 0, 1, 2]\n",
    "sigma_values = [1, 0.5, 0.4, 0.7, 1.2]\n",
    "\n",
    "# We'll pick a standard range for x values.\n",
    "x_axis = np.arange(-5,5,0.01)\n",
    "\n",
    "# Plot these five Gaussians\n",
    "p = figure(plot_width=800, plot_height=500)\n",
    "p.title.text = 'Click on legend entries to hide the corresponding lines'\n",
    "\n",
    "# Use a for loop to make all five plots\n",
    "for mu, sigma, color in zip(mu_values, sigma_values, Category20b[5]):\n",
    "    norm_data = stats.norm.pdf(x_axis, loc = mu, scale = sigma)\n",
    "    p.line(x_axis, norm_data, line_width=2, color= color, alpha=0.8, legend = f'mu={mu}, sigma={sigma}')\n",
    "\n",
    "p.legend.location = \"top_right\"\n",
    "p.legend.click_policy=\"hide\"\n",
    "p.xaxis.axis_label = 'X'\n",
    "p.yaxis.axis_label = 'Probability density'\n",
    "\n",
    "show(p)"
   ]
  },
  {
   "cell_type": "code",
   "execution_count": null,
   "metadata": {},
   "outputs": [],
   "source": [
    "from bokeh.layouts import row, column\n",
    "from bokeh.models import CustomJS, Slider\n",
    "from bokeh.plotting import figure, output_file, show, ColumnDataSource\n",
    "\n",
    "# Note we make a different x axis. Doens't have to be centered at 0.\n",
    "x = np.linspace(0, 100, 1000)\n",
    "y = stats.norm.pdf(x, loc = 25, scale = 5)\n",
    "source = ColumnDataSource(data=dict(x=x, y=y))\n",
    "\n",
    "# Start figure\n",
    "plot = figure(y_range=(0, 0.2), plot_width=600, plot_height=400)\n",
    "\n",
    "# Plot initial line\n",
    "plot.line('x', 'y', source=source, line_width=3, line_alpha=0.6)\n",
    "\n",
    "# Define sliders\n",
    "mu_slider = Slider(start=1, end=100, value=25, step=1, title=\"Mean\")\n",
    "sigma_slider = Slider(start=1, end=40, value=5, step=1, title=\"Standard Deviation\")\n",
    "\n",
    "# Javascript lets us make interactive sliders\n",
    "callback = CustomJS(args=dict(source=source, mu=mu_slider, sigma=sigma_slider),\n",
    "                    code=\"\"\"\n",
    "    const data = source.data;\n",
    "    const m = mu.value;\n",
    "    const s = sigma.value;\n",
    "    const x = data['x']\n",
    "    const y = data['y']\n",
    "\n",
    "    for (var i = 0; i < x.length; i++) {\n",
    "        y[i] = (1/(s*Math.sqrt(2*Math.PI)))*Math.exp(-Math.pow((x[i]-m),2)/(2*Math.pow(s,2)))\n",
    "    }\n",
    "    console.log(y)\n",
    "    source.change.emit();\n",
    "\"\"\")\n",
    "\n",
    "# Defining what happens when a slider value changes. In this case, the callback function evaluates.\n",
    "mu_slider.js_on_change('value', callback)\n",
    "sigma_slider.js_on_change('value', callback)\n",
    "\n",
    "# Final plot labels and things\n",
    "plot.xaxis.axis_label = 'X'\n",
    "plot.yaxis.axis_label = 'Probability Density'\n",
    "layout = row(\n",
    "    plot,\n",
    "    column(mu_slider, sigma_slider),\n",
    ")\n",
    "\n",
    "\n",
    "show(layout)"
   ]
  },
  {
   "cell_type": "code",
   "execution_count": null,
   "metadata": {},
   "outputs": [],
   "source": []
  }
 ],
 "metadata": {
  "kernelspec": {
   "display_name": "Python 3",
   "language": "python",
   "name": "python3"
  },
  "language_info": {
   "codemirror_mode": {
    "name": "ipython",
    "version": 3
   },
   "file_extension": ".py",
   "mimetype": "text/x-python",
   "name": "python",
   "nbconvert_exporter": "python",
   "pygments_lexer": "ipython3",
   "version": "3.7.3"
  }
 },
 "nbformat": 4,
 "nbformat_minor": 2
}
