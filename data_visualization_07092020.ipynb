{
 "cells": [
  {
   "cell_type": "markdown",
   "metadata": {},
   "source": [
    "# Data visualization tutorial\n",
    "\n",
    "In this tutorial we will cover basic plotting in python. Specifically we will discuss different types of plots, plot elements, and how to create them. For more advanced plotting, see the next tutorial."
   ]
  },
  {
   "cell_type": "code",
   "execution_count": null,
   "metadata": {},
   "outputs": [],
   "source": [
    "## Import necessary packages\n",
    "\n",
    "import sys\n",
    "import os\n",
    "import numpy as np\n",
    "import matplotlib.pyplot as plt\n",
    "import scipy.io as sio\n",
    "from scipy import stats\n",
    "import seaborn as sns"
   ]
  },
  {
   "cell_type": "markdown",
   "metadata": {},
   "source": [
    "## Creating visualizations in Python\n",
    "\n",
    "There are many packages we could use to generate plots in python. Below are a few of the most common:\n",
    "\n",
    "- matplotlib\n",
    "- seaborn\n",
    "- ggplot2\n",
    "- plotly\n",
    "- pandas\n",
    "\n",
    "When making a basic chart, such as a scatterplot, one could use any of these packages. Why choose one over the other?\n",
    "\n",
    "1) Data format: Perhaps you have your data already stored as a pandas data frame. In that case, the pandas package makes it very straightforward to visualize the data.\n",
    "\n",
    "2) Syntax preference: If you have already learned how to plot in Matlab, then matplotlib and seaborn will be easy to pick up as they have very similar approaches to plotting. If coming from R or if you are familiar with the grammar of graphics, you'll likely find ggplot2 to be the most welcoming.\n",
    "\n",
    "3) Style: The default colors and axis styles of each package differ. You can always tweak these features, but if you can use the default style to get close to your desired output, it makes the coding much quicker.\n",
    "\n"
   ]
  },
  {
   "cell_type": "markdown",
   "metadata": {},
   "source": [
    "-------\n",
    "## Today\n",
    "\n",
    "We'll use a few different small datasets to demonstrate the plotting functions in seaborn. \n",
    "\n"
   ]
  },
  {
   "cell_type": "code",
   "execution_count": null,
   "metadata": {},
   "outputs": [],
   "source": [
    "## Random data 1D\n",
    "\n",
    "# Create an array with n random numbers\n",
    "n = 20\n",
    "data1 = np.random.rand(n)\n",
    "#-- Hint: Keep increasing n to see how the histogram in the next block changes\n",
    "\n",
    "# Print the data\n",
    "print(data1)\n"
   ]
  },
  {
   "cell_type": "code",
   "execution_count": null,
   "metadata": {},
   "outputs": [],
   "source": [
    "# How can we visually understand a long vector of values?\n",
    "\n",
    "# Stripplot\n",
    "fig1 = sns.stripplot(data1, orient=\"v\")\n",
    "fig1.set(ylabel=\"data values\", xlabel=\"Our data :)\")"
   ]
  },
  {
   "cell_type": "code",
   "execution_count": null,
   "metadata": {},
   "outputs": [],
   "source": [
    "# Boxplot vs violin plot\n",
    "data2 = np.random.normal(size=100)\n",
    "plt.figure(figsize=(10,5))\n",
    "\n",
    "plt.subplot(1,3,1)  # Draw the following plot in a grid that contains 1 row and 3 columns, in the 1st position\n",
    "fig2a = sns.stripplot(data2, orient = \"v\")\n",
    "fig2a.set(ylim=(-3,3), ylabel=\"data values\", title=\"Stripplot\")\n",
    "\n",
    "plt.subplot(1,3,2)\n",
    "fig2b = sns.boxplot(data2, orient=\"v\")\n",
    "fig2b.set(ylim=(-3,3), title=\"Box plot\")\n",
    "\n",
    "plt.subplot(1,3,3)\n",
    "fig2c = sns.violinplot(data2, orient = \"v\", cut=0)\n",
    "fig2c.set(ylim=(-3,3), title=\"Violin plot\")\n",
    "\n",
    "\n",
    "#-- Hint: How do these plots change with different distributions? Try replacing data2 with data3, and \n",
    "# set data3 = np.random.lognormal(size=100)-2"
   ]
  },
  {
   "cell_type": "code",
   "execution_count": null,
   "metadata": {},
   "outputs": [],
   "source": [
    "# Histogram - sns.distplot\n",
    "fig3 = sns.distplot(data2, label=\"Data1\", bins=20, kde=False)\n",
    "\n",
    "#-- Hint: try adding the following terms to the function: kde=True, rug=True, color=\"red\", bins=n/10\n",
    "\n",
    "# Set axis labels\n",
    "fig3.set(xlabel = \"Values\", ylabel=\"Frequency\")\n",
    "\n",
    "#-- Hint: try adding a vertical line at the mean value by uncommenting the following line...\n",
    "# fig1.axvline(data1.mean(), label = 'Mean', color = \"blue\")\n",
    "\n",
    "# Make sure we show the legend as well. Anything that we give a label should show up here\n",
    "fig3.legend()"
   ]
  },
  {
   "cell_type": "markdown",
   "metadata": {},
   "source": [
    "### Plotting with two variables\n",
    "\n",
    "When we have two variables, the plotting possibilities become a little more interesting. We might show a line plot, a scatter plot, a bar plot, or more depending on the data. For example, if the data are collected over time, a line plot will help us see how the observations change from one timepoint to the next. \n"
   ]
  },
  {
   "cell_type": "code",
   "execution_count": null,
   "metadata": {},
   "outputs": [],
   "source": [
    "## Spurious correlation data\n",
    "\n",
    "years = np.array([2000, 2001, 2002, 2003, 2004, 2005, 2006, 2007, 2008, 2009])\n",
    "letters = np.array([8, 11, 12, 11, 13, 12, 9, 9, 7, 9]);\n",
    "eggconsumption = np.array([251, 252, 255, 255, 257, 256, 258, 250, 247, 246.1])\n",
    "\n",
    "# What types of variables are these? Categorical or numerical?"
   ]
  },
  {
   "cell_type": "code",
   "execution_count": null,
   "metadata": {},
   "outputs": [],
   "source": [
    "## Scatterplot\n",
    "\n",
    "# Perhaps the most frequent method for understanding two variables is through the scatterplot\n",
    "fig4 = sns.scatterplot(letters, eggconsumption, color=\"purple\", s=80)\n",
    "fig4.set(xlabel=\"Letters\", ylabel = \"Egg consumption\");"
   ]
  },
  {
   "cell_type": "markdown",
   "metadata": {},
   "source": [
    "The above scatterplot works well for many datasets. However in our case we have a timepoint associated with each dot. That means we can do one of two things: Create a line plot and link subsequent timepoints, or create two line plots with a double y-axis.\n",
    "Let's try both. What do you learn from the single line plot? What do you learn from the double y-axis plot?\n"
   ]
  },
  {
   "cell_type": "code",
   "execution_count": null,
   "metadata": {},
   "outputs": [],
   "source": [
    "# We'll use subplots to make this work. In one figure, we might have multiple subplots arranged in a type of grid (or not!)\n",
    "# Subplots help us more easily make comparisons between plots.\n",
    "\n",
    "plt.figure(figsize=(10,5))\n",
    "\n",
    "# Line plot\n",
    "plt.subplot(1,2,1)   # Draw the following plot in a grid that contains 1 row and 2 columns, in the 1st position\n",
    "\n",
    "sns.lineplot(letters, eggconsumption, ci=None, sort=False, estimator = None, marker = \"o\")    # The data are already ordered by year\n",
    "plt.xlabel(\"Letters\")\n",
    "plt.ylabel(\"Egg consumption\")\n",
    "\n",
    "# Double y-axis\n",
    "plt.subplot(1,2,2)\n",
    "sns.lineplot(years, letters, label=\"letters\")\n",
    "ax2 = plt.twinx()\n",
    "sns.lineplot(years, eggconsumption, color=\"b\", ax=ax2, label=\"egg consumption\")\n",
    "\n",
    "### What is this plot missing????\n"
   ]
  },
  {
   "cell_type": "markdown",
   "metadata": {},
   "source": [
    "### Matrices and heatmaps\n",
    "\n",
    "Depending on your system, you might often need to visualize an entire matrix of data. In neuroscience, this can happen if you study areas of the brain and how they all connect to each other. In biology, we might use matrices to describe protein-protein interactions. In transportation, matrices could store flow between multiple areas (think of airports and planes). \n",
    "\n",
    "Below we'll work with random data to understand the basics. If you'd like to take a peek at some brain data collected from healthy adults and how we might visually represent these data, see the advanced notebook."
   ]
  },
  {
   "cell_type": "code",
   "execution_count": null,
   "metadata": {},
   "outputs": [],
   "source": [
    "n = 5\n",
    "data_matrix = np.random.random((n,n))\n",
    "\n",
    "# To make this matrix a little easier to understand, let's symmetrize it\n",
    "data_matrix = data_matrix + np.transpose(data_matrix)\n",
    "\n",
    "print(f'Our matrix has size: {data_matrix.shape}')\n",
    "data_matrix"
   ]
  },
  {
   "cell_type": "code",
   "execution_count": null,
   "metadata": {},
   "outputs": [],
   "source": [
    "# Heatmap\n",
    "fig5 = sns.heatmap(data_matrix, vmin=0, vmax = 2)\n",
    "fig5.set(xlabel=\"Columns\", ylabel=\"Rows\")"
   ]
  },
  {
   "cell_type": "markdown",
   "metadata": {},
   "source": [
    "Now let's imagine we have just imaged someone's brain. Our initial data processing gives us 83 regions (motor cortext left hemisphere, motor cortext right hemisphere, ..., brainstem) and the thickness of the wiring that connect them.\n",
    "\n",
    "![DTI data](./data/brain.png)\n",
    "\n",
    "\n",
    "Below we'll load in a brain matrix from a healthy adult and plot it using sns.heatmap.\n",
    "\n"
   ]
  },
  {
   "cell_type": "code",
   "execution_count": null,
   "metadata": {},
   "outputs": [],
   "source": [
    "# Load in one scan as brain_example. \n",
    "brain_example = sio.loadmat(\"data/brain_3.mat\")\n",
    "\n",
    "# The brain_example has the adjacency matrix stored as 'adj'\n",
    "brain_example = brain_example['adj']\n",
    "\n",
    "# Data processing: symmetrize and set diagonal to 0\n",
    "brain_example = 0.5*(brain_example + np.transpose(brain_example))\n",
    "np.fill_diagonal(brain_example,0)\n",
    "\n",
    "# Look at the adjacency matrix\n",
    "\n",
    "# With seaborn\n",
    "fig6 = sns.heatmap(brain_example, cbar_kws={'label': 'Connection strength'})\n",
    "fig6.set(xlabel = 'Regions', ylabel = 'Regions', title = \"Adjacency matrix for individual 3\");\n"
   ]
  },
  {
   "cell_type": "code",
   "execution_count": null,
   "metadata": {},
   "outputs": [],
   "source": []
  }
 ],
 "metadata": {
  "kernelspec": {
   "display_name": "Python 3",
   "language": "python",
   "name": "python3"
  },
  "language_info": {
   "codemirror_mode": {
    "name": "ipython",
    "version": 3
   },
   "file_extension": ".py",
   "mimetype": "text/x-python",
   "name": "python",
   "nbconvert_exporter": "python",
   "pygments_lexer": "ipython3",
   "version": "3.7.3"
  }
 },
 "nbformat": 4,
 "nbformat_minor": 2
}
