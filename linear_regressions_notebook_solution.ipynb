{
 "cells": [
  {
   "cell_type": "code",
   "execution_count": 79,
   "metadata": {},
   "outputs": [],
   "source": [
    "# Import libraries\n",
    "\n",
    "import numpy as np\n",
    "import pandas as pd\n",
    "import matplotlib.pyplot as plt\n",
    "import seaborn as sns\n",
    "\n",
    "import statsmodels.api as sm\n",
    "import statsmodels.formula.api as smf\n",
    "from statsmodels.sandbox.regression.predstd import wls_prediction_std\n",
    "\n"
   ]
  },
  {
   "cell_type": "markdown",
   "metadata": {},
   "source": [
    "# Linear Regressions\n",
    "\n",
    "\n",
    "A linear regression is the “Best Fitting” line through a cloud of points.\n",
    "\n",
    "The criterior that we will choose to decide which line is the \"Best Fitting\" is the sum of squared vertical deviations. We refer to the resulting estimator as Ordinary Least Squares (OLS)\n",
    "\n",
    "https://fditraglia.shinyapps.io/regression/\n",
    "\n"
   ]
  },
  {
   "cell_type": "markdown",
   "metadata": {},
   "source": [
    "# Example 1: College Data\n",
    "\n",
    "Suppose we are interested in the relationship between SAT scores and college GPA. Is a high SAT score related to a high college GPA? Can we predict your college GPA based on your SAT score?\n",
    " \n",
    " Let's import the data and see. The variables we are interested in are:\n",
    " \n",
    "**colgpa**:   College GPA on a four point scale\n",
    "\n",
    "**sat**:      Combined SAT score (verbal plus math)\n",
    "\n",
    "\n"
   ]
  },
  {
   "cell_type": "code",
   "execution_count": 67,
   "metadata": {},
   "outputs": [
    {
     "data": {
      "text/html": [
       "<div>\n",
       "<style scoped>\n",
       "    .dataframe tbody tr th:only-of-type {\n",
       "        vertical-align: middle;\n",
       "    }\n",
       "\n",
       "    .dataframe tbody tr th {\n",
       "        vertical-align: top;\n",
       "    }\n",
       "\n",
       "    .dataframe thead th {\n",
       "        text-align: right;\n",
       "    }\n",
       "</style>\n",
       "<table border=\"1\" class=\"dataframe\">\n",
       "  <thead>\n",
       "    <tr style=\"text-align: right;\">\n",
       "      <th></th>\n",
       "      <th>sat</th>\n",
       "      <th>colgpa</th>\n",
       "    </tr>\n",
       "  </thead>\n",
       "  <tbody>\n",
       "    <tr>\n",
       "      <th>0</th>\n",
       "      <td>920</td>\n",
       "      <td>2.04</td>\n",
       "    </tr>\n",
       "    <tr>\n",
       "      <th>1</th>\n",
       "      <td>1170</td>\n",
       "      <td>4.00</td>\n",
       "    </tr>\n",
       "    <tr>\n",
       "      <th>2</th>\n",
       "      <td>810</td>\n",
       "      <td>1.78</td>\n",
       "    </tr>\n",
       "    <tr>\n",
       "      <th>3</th>\n",
       "      <td>940</td>\n",
       "      <td>2.42</td>\n",
       "    </tr>\n",
       "    <tr>\n",
       "      <th>4</th>\n",
       "      <td>1180</td>\n",
       "      <td>2.61</td>\n",
       "    </tr>\n",
       "  </tbody>\n",
       "</table>\n",
       "</div>"
      ],
      "text/plain": [
       "    sat  colgpa\n",
       "0   920    2.04\n",
       "1  1170    4.00\n",
       "2   810    1.78\n",
       "3   940    2.42\n",
       "4  1180    2.61"
      ]
     },
     "execution_count": 67,
     "metadata": {},
     "output_type": "execute_result"
    }
   ],
   "source": [
    "# Import data\n",
    "\n",
    "collegeDataAll = pd.read_csv('college_gpa.csv')\n",
    "\n",
    "collegeData = collegeDataAll[['sat','colgpa']]\n",
    "collegeData.head()"
   ]
  },
  {
   "cell_type": "code",
   "execution_count": 68,
   "metadata": {},
   "outputs": [
    {
     "data": {
      "text/html": [
       "<div>\n",
       "<style scoped>\n",
       "    .dataframe tbody tr th:only-of-type {\n",
       "        vertical-align: middle;\n",
       "    }\n",
       "\n",
       "    .dataframe tbody tr th {\n",
       "        vertical-align: top;\n",
       "    }\n",
       "\n",
       "    .dataframe thead th {\n",
       "        text-align: right;\n",
       "    }\n",
       "</style>\n",
       "<table border=\"1\" class=\"dataframe\">\n",
       "  <thead>\n",
       "    <tr style=\"text-align: right;\">\n",
       "      <th></th>\n",
       "      <th>sat</th>\n",
       "      <th>colgpa</th>\n",
       "    </tr>\n",
       "  </thead>\n",
       "  <tbody>\n",
       "    <tr>\n",
       "      <th>count</th>\n",
       "      <td>4137.000000</td>\n",
       "      <td>4137.000000</td>\n",
       "    </tr>\n",
       "    <tr>\n",
       "      <th>mean</th>\n",
       "      <td>1030.331158</td>\n",
       "      <td>2.652686</td>\n",
       "    </tr>\n",
       "    <tr>\n",
       "      <th>std</th>\n",
       "      <td>139.401392</td>\n",
       "      <td>0.658635</td>\n",
       "    </tr>\n",
       "    <tr>\n",
       "      <th>min</th>\n",
       "      <td>470.000000</td>\n",
       "      <td>0.000000</td>\n",
       "    </tr>\n",
       "    <tr>\n",
       "      <th>25%</th>\n",
       "      <td>940.000000</td>\n",
       "      <td>2.210000</td>\n",
       "    </tr>\n",
       "    <tr>\n",
       "      <th>50%</th>\n",
       "      <td>1030.000000</td>\n",
       "      <td>2.660000</td>\n",
       "    </tr>\n",
       "    <tr>\n",
       "      <th>75%</th>\n",
       "      <td>1120.000000</td>\n",
       "      <td>3.120000</td>\n",
       "    </tr>\n",
       "    <tr>\n",
       "      <th>max</th>\n",
       "      <td>1540.000000</td>\n",
       "      <td>4.000000</td>\n",
       "    </tr>\n",
       "  </tbody>\n",
       "</table>\n",
       "</div>"
      ],
      "text/plain": [
       "               sat       colgpa\n",
       "count  4137.000000  4137.000000\n",
       "mean   1030.331158     2.652686\n",
       "std     139.401392     0.658635\n",
       "min     470.000000     0.000000\n",
       "25%     940.000000     2.210000\n",
       "50%    1030.000000     2.660000\n",
       "75%    1120.000000     3.120000\n",
       "max    1540.000000     4.000000"
      ]
     },
     "execution_count": 68,
     "metadata": {},
     "output_type": "execute_result"
    }
   ],
   "source": [
    "# Explore what the two variables look like\n",
    "\n",
    "collegeData.describe()"
   ]
  },
  {
   "cell_type": "code",
   "execution_count": 60,
   "metadata": {},
   "outputs": [
    {
     "data": {
      "text/plain": [
       "<matplotlib.axes._subplots.AxesSubplot at 0x1c18c36cf8>"
      ]
     },
     "execution_count": 60,
     "metadata": {},
     "output_type": "execute_result"
    },
    {
     "data": {
      "image/png": "[encoded data removed]",
      "text/plain": [
       "<Figure size 720x360 with 1 Axes>"
      ]
     },
     "metadata": {
      "needs_background": "light"
     },
     "output_type": "display_data"
    }
   ],
   "source": [
    "# Plot data with a scatter plot\n",
    "\n",
    "fig,ax = plt.subplots(figsize = (10,5))\n",
    "sns.scatterplot(data = collegeData, x='sat', y='colgpa')"
   ]
  },
  {
   "cell_type": "markdown",
   "metadata": {},
   "source": [
    "Once we have had a look at the data, let's do our regression!\n",
    "\n",
    "Our statistical model is:\n",
    "\n",
    "\\begin{equation}\n",
    "\\text{college GPA} = \\alpha + \\beta \\ \\text{SAT score} + \\epsilon\n",
    "\\end{equation}\n",
    "\n",
    "We are going to use OLS to get the coefficients.\n"
   ]
  },
  {
   "cell_type": "code",
   "execution_count": 76,
   "metadata": {},
   "outputs": [
    {
     "name": "stdout",
     "output_type": "stream",
     "text": [
      "                            OLS Regression Results                            \n",
      "==============================================================================\n",
      "Dep. Variable:                 colgpa   R-squared:                       0.167\n",
      "Model:                            OLS   Adj. R-squared:                  0.167\n",
      "Method:                 Least Squares   F-statistic:                     829.3\n",
      "Date:                Thu, 15 Aug 2019   Prob (F-statistic):          2.32e-166\n",
      "Time:                        19:16:22   Log-Likelihood:                -3764.0\n",
      "No. Observations:                4137   AIC:                             7532.\n",
      "Df Residuals:                    4135   BIC:                             7545.\n",
      "Df Model:                           1                                         \n",
      "Covariance Type:            nonrobust                                         \n",
      "==============================================================================\n",
      "                 coef    std err          t      P>|t|      [0.025      0.975]\n",
      "------------------------------------------------------------------------------\n",
      "Intercept      0.6631      0.070      9.510      0.000       0.526       0.800\n",
      "sat            0.0019   6.71e-05     28.797      0.000       0.002       0.002\n",
      "==============================================================================\n",
      "Omnibus:                      133.056   Durbin-Watson:                   1.950\n",
      "Prob(Omnibus):                  0.000   Jarque-Bera (JB):              151.699\n",
      "Skew:                          -0.413   Prob(JB):                     1.15e-33\n",
      "Kurtosis:                       3.443   Cond. No.                     7.76e+03\n",
      "==============================================================================\n",
      "\n",
      "Warnings:\n",
      "[1] Standard Errors assume that the covariance matrix of the errors is correctly specified.\n",
      "[2] The condition number is large, 7.76e+03. This might indicate that there are\n",
      "strong multicollinearity or other numerical problems.\n"
     ]
    }
   ],
   "source": [
    "# Do a linear regression (OLS)\n",
    "\n",
    "model = smf.ols(formula = 'colgpa ~  sat', data = collegeData)\n",
    "results = model.fit()\n",
    "print(results.summary())\n"
   ]
  },
  {
   "cell_type": "code",
   "execution_count": 75,
   "metadata": {
    "scrolled": true
   },
   "outputs": [
    {
     "name": "stdout",
     "output_type": "stream",
     "text": [
      "Parameters:  Intercept          1.365159\n",
      "C(athlete)[T.1]    0.119713\n",
      "sat                0.001501\n",
      "hsperc            -0.013772\n",
      "dtype: float64\n",
      "R2:  0.2748300352676304\n",
      "Predicted values:  [2.31518804 2.841856   2.21485436 ... 3.3463169  1.9314083  3.32982314]\n"
     ]
    }
   ],
   "source": [
    "# Extract parameters\n",
    "\n",
    "print('Parameters: ', results.params)\n",
    "print('Standard errors: ', results.bse)\n",
    "print('R2: ', results.rsquared)\n"
   ]
  },
  {
   "cell_type": "markdown",
   "metadata": {},
   "source": [
    "### Interpretation\n",
    "\n",
    "Let's interpret the coefficients related to SAT (0.0019). What does it mean?\n",
    "\n",
    "- First of all it is positive. That means that a higher SAT is associated with a higher college GPA.\n",
    "\n",
    "- 100 points more in the SAT are associated to $100*0.0019 = 0.19$ points more in the college GPA.\n",
    "\n",
    "- Is it statistically significant? Yes, look at the P-value and the confidence interval.\n",
    "\n",
    "- Is it 'practically' significant? (is 0.19 a lot?)\n",
    "\n",
    "- Does the SAT explain a lot of the variation in the college GPA? \n",
    "\n",
    "**Prediction**: if your SAT score was 1300, your college GPA will be around to $0.663 + 1300*0.0019 = 3.13$ \n",
    "\n",
    "\n"
   ]
  },
  {
   "cell_type": "markdown",
   "metadata": {},
   "source": [
    "### Fitted values\n",
    "\n"
   ]
  },
  {
   "cell_type": "code",
   "execution_count": null,
   "metadata": {},
   "outputs": [],
   "source": [
    "print('Predicted values: ', results.predict())"
   ]
  },
  {
   "cell_type": "code",
   "execution_count": 81,
   "metadata": {},
   "outputs": [
    {
     "data": {
      "text/plain": [
       "array([0.60130261, 0.60133003, 0.60143859, ..., 0.60161558, 0.60126656,\n",
       "       0.60182463])"
      ]
     },
     "execution_count": 81,
     "metadata": {},
     "output_type": "execute_result"
    },
    {
     "data": {
      "image/png": "[encoded data removed]",
      "text/plain": [
       "<Figure size 576x432 with 1 Axes>"
      ]
     },
     "metadata": {
      "needs_background": "light"
     },
     "output_type": "display_data"
    }
   ],
   "source": [
    "# Create confidence intervals\n",
    "prstd, lowerBounds, upperBounds = wls_prediction_std(results)\n",
    "\n",
    "fig, ax = plt.subplots(figsize=(8,6))\n",
    "\n",
    "ax.plot(collegeData['sat'], collegeData['colgpa'] , 'o', label=\"data\")\n",
    "ax.plot(collegeData['sat'], results.fittedvalues, 'r--.', label=\"OLS\")\n",
    "ax.plot(collegeData['sat'], lowerBounds, 'r--')\n",
    "ax.plot(collegeData['sat'], upperBounds, 'r--')\n",
    "ax.legend(loc='best');\n"
   ]
  },
  {
   "cell_type": "markdown",
   "metadata": {},
   "source": [
    "## Multivariate linear regression\n",
    "\n",
    "Let's do another linear regression, with two variables now. Let's add high school performance to the list of variables that might predict college GPA.\n",
    " \n",
    "The variables we are interested in now are:\n",
    " \n",
    "**colgpa**:   College GPA on a four point scale\n",
    "\n",
    "**sat**:      Combined SAT score (verbal plus math)\n",
    "\n",
    "**hsperc**   Percentile in HS graduating class (hsperc = 5 top 5%)\n",
    "\n",
    "and our statistical model is \n",
    "\n",
    "\\begin{equation}\n",
    "\\text{college GPA} = \\alpha + \\beta_1 \\ \\text{SAT score} +  \\beta_2 \\ \\text{HS percentile} + \\epsilon\n",
    "\\end{equation}\n"
   ]
  },
  {
   "cell_type": "code",
   "execution_count": 72,
   "metadata": {},
   "outputs": [
    {
     "data": {
      "text/plain": [
       "<matplotlib.axes._subplots.AxesSubplot at 0x1c18269ba8>"
      ]
     },
     "execution_count": 72,
     "metadata": {},
     "output_type": "execute_result"
    },
    {
     "data": {
      "image/png": "[encoded data removed]",
      "text/plain": [
       "<Figure size 432x288 with 1 Axes>"
      ]
     },
     "metadata": {
      "needs_background": "light"
     },
     "output_type": "display_data"
    }
   ],
   "source": [
    "# Let's first have a look at what hsperc looks like\n",
    "sns.distplot(collegeDataAll['hsperc'])\n"
   ]
  },
  {
   "cell_type": "code",
   "execution_count": 64,
   "metadata": {},
   "outputs": [
    {
     "name": "stdout",
     "output_type": "stream",
     "text": [
      "                            OLS Regression Results                            \n",
      "==============================================================================\n",
      "Dep. Variable:                 colgpa   R-squared:                       0.273\n",
      "Model:                            OLS   Adj. R-squared:                  0.273\n",
      "Method:                 Least Squares   F-statistic:                     777.9\n",
      "Date:                Thu, 15 Aug 2019   Prob (F-statistic):          1.77e-287\n",
      "Time:                        18:40:50   Log-Likelihood:                -3481.3\n",
      "No. Observations:                4137   AIC:                             6969.\n",
      "Df Residuals:                    4134   BIC:                             6988.\n",
      "Df Model:                           2                                         \n",
      "Covariance Type:            nonrobust                                         \n",
      "==============================================================================\n",
      "                 coef    std err          t      P>|t|      [0.025      0.975]\n",
      "------------------------------------------------------------------------------\n",
      "Intercept      1.3918      0.072     19.454      0.000       1.251       1.532\n",
      "sat            0.0015   6.53e-05     22.604      0.000       0.001       0.002\n",
      "hsperc        -0.0135      0.001    -24.604      0.000      -0.015      -0.012\n",
      "==============================================================================\n",
      "Omnibus:                      185.155   Durbin-Watson:                   1.873\n",
      "Prob(Omnibus):                  0.000   Jarque-Bera (JB):              226.496\n",
      "Skew:                          -0.481   Prob(JB):                     6.56e-50\n",
      "Kurtosis:                       3.624   Cond. No.                     8.52e+03\n",
      "==============================================================================\n",
      "\n",
      "Warnings:\n",
      "[1] Standard Errors assume that the covariance matrix of the errors is correctly specified.\n",
      "[2] The condition number is large, 8.52e+03. This might indicate that there are\n",
      "strong multicollinearity or other numerical problems.\n"
     ]
    }
   ],
   "source": [
    "# Run the regression\n",
    "\n",
    "model = smf.ols(formula = 'colgpa ~  sat + hsperc', data = collegeDataAll)\n",
    "results = model.fit()\n",
    "print(results.summary())"
   ]
  },
  {
   "cell_type": "markdown",
   "metadata": {},
   "source": [
    "### Interpretation\n",
    "\n",
    "- What is the coefficient on HS percentile?\n",
    "\n",
    "- What happened to the coefficient on SAT score once we introduced HS percentile? Why do you think that is?\n",
    "\n",
    "**Research** : how many variables and which variables should I include in a regression? This is not an easy question at all! :)\n"
   ]
  },
  {
   "cell_type": "markdown",
   "metadata": {},
   "source": [
    "## Dummy Variables, or difference in intercept\n",
    "\n",
    "Suppose we want to check whether women have higher or lower GPA (formally, if the intercept is higher for athlethes)\n",
    "\n",
    "We want to use the variable:\n",
    "\n",
    "**female**:  Dummy variable equal to 1 if an athlete\n",
    "\n",
    "\n"
   ]
  },
  {
   "cell_type": "code",
   "execution_count": 89,
   "metadata": {},
   "outputs": [
    {
     "data": {
      "text/html": [
       "<div>\n",
       "<style scoped>\n",
       "    .dataframe tbody tr th:only-of-type {\n",
       "        vertical-align: middle;\n",
       "    }\n",
       "\n",
       "    .dataframe tbody tr th {\n",
       "        vertical-align: top;\n",
       "    }\n",
       "\n",
       "    .dataframe thead th {\n",
       "        text-align: right;\n",
       "    }\n",
       "</style>\n",
       "<table border=\"1\" class=\"dataframe\">\n",
       "  <thead>\n",
       "    <tr style=\"text-align: right;\">\n",
       "      <th></th>\n",
       "      <th>sat</th>\n",
       "      <th>tothrs</th>\n",
       "      <th>colgpa</th>\n",
       "      <th>athlete</th>\n",
       "      <th>verbmath</th>\n",
       "      <th>hsize</th>\n",
       "      <th>hsrank</th>\n",
       "      <th>hsperc</th>\n",
       "      <th>female</th>\n",
       "      <th>white</th>\n",
       "      <th>black</th>\n",
       "    </tr>\n",
       "  </thead>\n",
       "  <tbody>\n",
       "    <tr>\n",
       "      <th>0</th>\n",
       "      <td>920</td>\n",
       "      <td>43</td>\n",
       "      <td>2.04</td>\n",
       "      <td>1</td>\n",
       "      <td>0.48387</td>\n",
       "      <td>0.10</td>\n",
       "      <td>4</td>\n",
       "      <td>40.000000</td>\n",
       "      <td>1</td>\n",
       "      <td>0</td>\n",
       "      <td>0</td>\n",
       "    </tr>\n",
       "    <tr>\n",
       "      <th>1</th>\n",
       "      <td>1170</td>\n",
       "      <td>18</td>\n",
       "      <td>4.00</td>\n",
       "      <td>0</td>\n",
       "      <td>0.82813</td>\n",
       "      <td>9.40</td>\n",
       "      <td>191</td>\n",
       "      <td>20.319149</td>\n",
       "      <td>0</td>\n",
       "      <td>1</td>\n",
       "      <td>0</td>\n",
       "    </tr>\n",
       "    <tr>\n",
       "      <th>2</th>\n",
       "      <td>810</td>\n",
       "      <td>14</td>\n",
       "      <td>1.78</td>\n",
       "      <td>1</td>\n",
       "      <td>0.88372</td>\n",
       "      <td>1.19</td>\n",
       "      <td>42</td>\n",
       "      <td>35.294117</td>\n",
       "      <td>0</td>\n",
       "      <td>1</td>\n",
       "      <td>0</td>\n",
       "    </tr>\n",
       "    <tr>\n",
       "      <th>3</th>\n",
       "      <td>940</td>\n",
       "      <td>40</td>\n",
       "      <td>2.42</td>\n",
       "      <td>0</td>\n",
       "      <td>0.80769</td>\n",
       "      <td>5.71</td>\n",
       "      <td>252</td>\n",
       "      <td>44.133099</td>\n",
       "      <td>0</td>\n",
       "      <td>1</td>\n",
       "      <td>0</td>\n",
       "    </tr>\n",
       "    <tr>\n",
       "      <th>4</th>\n",
       "      <td>1180</td>\n",
       "      <td>18</td>\n",
       "      <td>2.61</td>\n",
       "      <td>0</td>\n",
       "      <td>0.73529</td>\n",
       "      <td>2.14</td>\n",
       "      <td>86</td>\n",
       "      <td>40.186916</td>\n",
       "      <td>0</td>\n",
       "      <td>1</td>\n",
       "      <td>0</td>\n",
       "    </tr>\n",
       "    <tr>\n",
       "      <th>5</th>\n",
       "      <td>980</td>\n",
       "      <td>114</td>\n",
       "      <td>3.03</td>\n",
       "      <td>0</td>\n",
       "      <td>0.81481</td>\n",
       "      <td>2.68</td>\n",
       "      <td>41</td>\n",
       "      <td>15.298508</td>\n",
       "      <td>1</td>\n",
       "      <td>1</td>\n",
       "      <td>0</td>\n",
       "    </tr>\n",
       "    <tr>\n",
       "      <th>6</th>\n",
       "      <td>880</td>\n",
       "      <td>78</td>\n",
       "      <td>1.84</td>\n",
       "      <td>0</td>\n",
       "      <td>0.76000</td>\n",
       "      <td>3.11</td>\n",
       "      <td>161</td>\n",
       "      <td>51.768490</td>\n",
       "      <td>0</td>\n",
       "      <td>0</td>\n",
       "      <td>0</td>\n",
       "    </tr>\n",
       "    <tr>\n",
       "      <th>7</th>\n",
       "      <td>980</td>\n",
       "      <td>55</td>\n",
       "      <td>3.05</td>\n",
       "      <td>0</td>\n",
       "      <td>0.88462</td>\n",
       "      <td>2.68</td>\n",
       "      <td>101</td>\n",
       "      <td>37.686565</td>\n",
       "      <td>0</td>\n",
       "      <td>1</td>\n",
       "      <td>0</td>\n",
       "    </tr>\n",
       "    <tr>\n",
       "      <th>8</th>\n",
       "      <td>1240</td>\n",
       "      <td>18</td>\n",
       "      <td>3.00</td>\n",
       "      <td>0</td>\n",
       "      <td>0.69863</td>\n",
       "      <td>3.67</td>\n",
       "      <td>161</td>\n",
       "      <td>43.869209</td>\n",
       "      <td>0</td>\n",
       "      <td>1</td>\n",
       "      <td>0</td>\n",
       "    </tr>\n",
       "    <tr>\n",
       "      <th>9</th>\n",
       "      <td>1230</td>\n",
       "      <td>17</td>\n",
       "      <td>2.00</td>\n",
       "      <td>0</td>\n",
       "      <td>0.86364</td>\n",
       "      <td>0.10</td>\n",
       "      <td>3</td>\n",
       "      <td>30.000000</td>\n",
       "      <td>0</td>\n",
       "      <td>1</td>\n",
       "      <td>0</td>\n",
       "    </tr>\n",
       "  </tbody>\n",
       "</table>\n",
       "</div>"
      ],
      "text/plain": [
       "    sat  tothrs  colgpa  athlete  verbmath  hsize  hsrank     hsperc  female  \\\n",
       "0   920      43    2.04        1   0.48387   0.10       4  40.000000       1   \n",
       "1  1170      18    4.00        0   0.82813   9.40     191  20.319149       0   \n",
       "2   810      14    1.78        1   0.88372   1.19      42  35.294117       0   \n",
       "3   940      40    2.42        0   0.80769   5.71     252  44.133099       0   \n",
       "4  1180      18    2.61        0   0.73529   2.14      86  40.186916       0   \n",
       "5   980     114    3.03        0   0.81481   2.68      41  15.298508       1   \n",
       "6   880      78    1.84        0   0.76000   3.11     161  51.768490       0   \n",
       "7   980      55    3.05        0   0.88462   2.68     101  37.686565       0   \n",
       "8  1240      18    3.00        0   0.69863   3.67     161  43.869209       0   \n",
       "9  1230      17    2.00        0   0.86364   0.10       3  30.000000       0   \n",
       "\n",
       "   white  black  \n",
       "0      0      0  \n",
       "1      1      0  \n",
       "2      1      0  \n",
       "3      1      0  \n",
       "4      1      0  \n",
       "5      1      0  \n",
       "6      0      0  \n",
       "7      1      0  \n",
       "8      1      0  \n",
       "9      1      0  "
      ]
     },
     "execution_count": 89,
     "metadata": {},
     "output_type": "execute_result"
    }
   ],
   "source": [
    "## Let's check what the variable female looks like\n",
    "collegeDataAll.head(10)\n",
    "plt.hist(collegeDataAll['female'])"
   ]
  },
  {
   "cell_type": "code",
   "execution_count": 93,
   "metadata": {},
   "outputs": [
    {
     "name": "stdout",
     "output_type": "stream",
     "text": [
      "                            OLS Regression Results                            \n",
      "==============================================================================\n",
      "Dep. Variable:                 colgpa   R-squared:                       0.285\n",
      "Model:                            OLS   Adj. R-squared:                  0.285\n",
      "Method:                 Least Squares   F-statistic:                     549.9\n",
      "Date:                Thu, 15 Aug 2019   Prob (F-statistic):          9.81e-301\n",
      "Time:                        19:33:53   Log-Likelihood:                -3447.3\n",
      "No. Observations:                4137   AIC:                             6903.\n",
      "Df Residuals:                    4133   BIC:                             6928.\n",
      "Df Model:                           3                                         \n",
      "Covariance Type:            nonrobust                                         \n",
      "==================================================================================\n",
      "                     coef    std err          t      P>|t|      [0.025      0.975]\n",
      "----------------------------------------------------------------------------------\n",
      "Intercept          1.1908      0.075     15.876      0.000       1.044       1.338\n",
      "C(female)[T.1]     0.1489      0.018      8.279      0.000       0.114       0.184\n",
      "sat                0.0016   6.62e-05     24.004      0.000       0.001       0.002\n",
      "hsperc            -0.0126      0.001    -22.636      0.000      -0.014      -0.012\n",
      "==============================================================================\n",
      "Omnibus:                      179.367   Durbin-Watson:                   1.887\n",
      "Prob(Omnibus):                  0.000   Jarque-Bera (JB):              221.845\n",
      "Skew:                          -0.465   Prob(JB):                     6.71e-49\n",
      "Kurtosis:                       3.649   Cond. No.                     9.03e+03\n",
      "==============================================================================\n",
      "\n",
      "Warnings:\n",
      "[1] Standard Errors assume that the covariance matrix of the errors is correctly specified.\n",
      "[2] The condition number is large, 9.03e+03. This might indicate that there are\n",
      "strong multicollinearity or other numerical problems.\n"
     ]
    }
   ],
   "source": [
    "## Dummy variables\n",
    "\n",
    "model = smf.ols(formula = 'colgpa ~  sat + hsperc + C(female)', data = collegeDataAll)\n",
    "results = model.fit()\n",
    "print(results.summary())"
   ]
  },
  {
   "cell_type": "markdown",
   "metadata": {},
   "source": [
    "## Interactions, or difference in slopes\n",
    "\n",
    "What about, is it the case that women with a high SAT score perform better than men with a high SAT score?\n"
   ]
  },
  {
   "cell_type": "code",
   "execution_count": 97,
   "metadata": {},
   "outputs": [
    {
     "name": "stdout",
     "output_type": "stream",
     "text": [
      "                            OLS Regression Results                            \n",
      "==============================================================================\n",
      "Dep. Variable:                 colgpa   R-squared:                       0.285\n",
      "Model:                            OLS   Adj. R-squared:                  0.285\n",
      "Method:                 Least Squares   F-statistic:                     412.7\n",
      "Date:                Thu, 15 Aug 2019   Prob (F-statistic):          1.62e-299\n",
      "Time:                        19:36:10   Log-Likelihood:                -3446.9\n",
      "No. Observations:                4137   AIC:                             6904.\n",
      "Df Residuals:                    4132   BIC:                             6935.\n",
      "Df Model:                           4                                         \n",
      "Covariance Type:            nonrobust                                         \n",
      "=========================================================================================\n",
      "                            coef    std err          t      P>|t|      [0.025      0.975]\n",
      "-----------------------------------------------------------------------------------------\n",
      "Intercept                 1.1796      0.076     15.529      0.000       1.031       1.329\n",
      "C(female)[T.1]            0.1678      0.027      6.181      0.000       0.115       0.221\n",
      "sat                       0.0016   6.63e-05     24.021      0.000       0.001       0.002\n",
      "hsperc                   -0.0122      0.001    -17.735      0.000      -0.014      -0.011\n",
      "hsperc:C(female)[T.1]    -0.0010      0.001     -0.931      0.352      -0.003       0.001\n",
      "==============================================================================\n",
      "Omnibus:                      179.125   Durbin-Watson:                   1.886\n",
      "Prob(Omnibus):                  0.000   Jarque-Bera (JB):              221.244\n",
      "Skew:                          -0.466   Prob(JB):                     9.07e-49\n",
      "Kurtosis:                       3.645   Cond. No.                     9.19e+03\n",
      "==============================================================================\n",
      "\n",
      "Warnings:\n",
      "[1] Standard Errors assume that the covariance matrix of the errors is correctly specified.\n",
      "[2] The condition number is large, 9.19e+03. This might indicate that there are\n",
      "strong multicollinearity or other numerical problems.\n"
     ]
    }
   ],
   "source": [
    "model = smf.ols(formula = 'colgpa ~  sat + hsperc  + C(female) +  hsperc*C(female)', data = collegeDataAll)\n",
    "results = model.fit()\n",
    "print(results.summary())"
   ]
  },
  {
   "cell_type": "markdown",
   "metadata": {},
   "source": [
    "# Exercise:\n",
    "\n",
    "\n",
    "- Report how many athletes there are in the school.\n",
    "- Do athletes have a higher GPA on average? Is the difference significant?\n",
    "- Run a regression of college GPA on Sat scores, using two different intercept for athlethes and non athletes. Report the coefficients and plot the data and the regression curves.\n",
    "\n",
    "Bonus:\n",
    "\n",
    "- Is the probability of being an athlete higher if the student comes from a bigger high school? (use OLS, we will see logit/probit in the future). \n",
    "\n",
    "\n",
    "For this exercise, on top of the ones we used already, use the variables:\n",
    "**athlete**: Dummy variable equal to 1 if an athlete\n",
    "**hsize**:   Size of high school (HS) graduating class in hundreds"
   ]
  },
  {
   "cell_type": "code",
   "execution_count": 134,
   "metadata": {},
   "outputs": [
    {
     "name": "stdout",
     "output_type": "stream",
     "text": [
      "Total number of students: 4137\n",
      "Total number of athletes: 194\n"
     ]
    }
   ],
   "source": [
    "# Report how many athletes there are in the school.\n",
    "print('Total number of students:', collegeDataAll['athlete'].count())\n",
    "print('Total number of athletes:', collegeDataAll['athlete'].sum())"
   ]
  },
  {
   "cell_type": "code",
   "execution_count": 139,
   "metadata": {},
   "outputs": [
    {
     "name": "stdout",
     "output_type": "stream",
     "text": [
      "2.3814948357872128\n",
      "2.6660284029894785\n",
      "                            OLS Regression Results                            \n",
      "==============================================================================\n",
      "Dep. Variable:                 colgpa   R-squared:                       0.008\n",
      "Model:                            OLS   Adj. R-squared:                  0.008\n",
      "Method:                 Least Squares   F-statistic:                     34.79\n",
      "Date:                Fri, 16 Aug 2019   Prob (F-statistic):           3.97e-09\n",
      "Time:                        09:29:21   Log-Likelihood:                -4124.8\n",
      "No. Observations:                4137   AIC:                             8254.\n",
      "Df Residuals:                    4135   BIC:                             8266.\n",
      "Df Model:                           1                                         \n",
      "Covariance Type:            nonrobust                                         \n",
      "===================================================================================\n",
      "                      coef    std err          t      P>|t|      [0.025      0.975]\n",
      "-----------------------------------------------------------------------------------\n",
      "Intercept           2.6660      0.010    255.212      0.000       2.646       2.687\n",
      "C(athlete)[T.1]    -0.2845      0.048     -5.898      0.000      -0.379      -0.190\n",
      "==============================================================================\n",
      "Omnibus:                       37.836   Durbin-Watson:                   1.942\n",
      "Prob(Omnibus):                  0.000   Jarque-Bera (JB):               38.870\n",
      "Skew:                          -0.225   Prob(JB):                     3.63e-09\n",
      "Kurtosis:                       3.154   Cond. No.                         4.74\n",
      "==============================================================================\n",
      "\n",
      "Warnings:\n",
      "[1] Standard Errors assume that the covariance matrix of the errors is correctly specified.\n"
     ]
    }
   ],
   "source": [
    "# Do athletes have a higher GPA on average? Is the difference significant?\n",
    "\n",
    "# Do it with means\n",
    "print(collegeDataAll['colgpa'][ collegeDataAll['athlete']==0].mean())\n",
    "print(collegeDataAll['colgpa'][ collegeDataAll['athlete']==1].mean())\n",
    "\n",
    "# And then do a test like Jeni showed\n",
    "\n",
    "# Or, do it with a regression\n",
    "results = smf.ols(formula = 'colgpa ~   C(athlete)', data = collegeDataAll).fit()\n",
    "print(results.summary())"
   ]
  },
  {
   "cell_type": "code",
   "execution_count": 162,
   "metadata": {},
   "outputs": [
    {
     "name": "stdout",
     "output_type": "stream",
     "text": [
      "                            OLS Regression Results                            \n",
      "==============================================================================\n",
      "Dep. Variable:                 colgpa   R-squared:                       0.167\n",
      "Model:                            OLS   Adj. R-squared:                  0.167\n",
      "Method:                 Least Squares   F-statistic:                     415.3\n",
      "Date:                Fri, 16 Aug 2019   Prob (F-statistic):          4.46e-165\n",
      "Time:                        09:48:03   Log-Likelihood:                -3763.4\n",
      "No. Observations:                4137   AIC:                             7533.\n",
      "Df Residuals:                    4134   BIC:                             7552.\n",
      "Df Model:                           2                                         \n",
      "Covariance Type:            nonrobust                                         \n",
      "===================================================================================\n",
      "                      coef    std err          t      P>|t|      [0.025      0.975]\n",
      "-----------------------------------------------------------------------------------\n",
      "Intercept           0.6801      0.071      9.533      0.000       0.540       0.820\n",
      "C(athlete)[T.1]    -0.0506      0.045     -1.125      0.261      -0.139       0.038\n",
      "sat                 0.0019   6.82e-05     28.092      0.000       0.002       0.002\n",
      "==============================================================================\n",
      "Omnibus:                      134.848   Durbin-Watson:                   1.949\n",
      "Prob(Omnibus):                  0.000   Jarque-Bera (JB):              153.926\n",
      "Skew:                          -0.417   Prob(JB):                     3.76e-34\n",
      "Kurtosis:                       3.446   Cond. No.                     8.05e+03\n",
      "==============================================================================\n",
      "\n",
      "Warnings:\n",
      "[1] Standard Errors assume that the covariance matrix of the errors is correctly specified.\n",
      "[2] The condition number is large, 8.05e+03. This might indicate that there are\n",
      "strong multicollinearity or other numerical problems.\n"
     ]
    }
   ],
   "source": [
    "# Run a regression of college GPA on Sat scores, using two different intercept for athlethes and non athletes,\n",
    "# and report the coefficients.\n",
    "results = smf.ols(formula = 'colgpa ~  sat + C(athlete)', data = collegeDataAll).fit()\n",
    "print(results.summary())\n"
   ]
  },
  {
   "cell_type": "code",
   "execution_count": 163,
   "metadata": {},
   "outputs": [
    {
     "data": {
      "image/png": "[encoded data removed]",
      "text/plain": [
       "<Figure size 720x360 with 1 Axes>"
      ]
     },
     "metadata": {
      "needs_background": "light"
     },
     "output_type": "display_data"
    }
   ],
   "source": [
    "# Plot the data and the regression curve\n",
    "fig, ax = plt.subplots(figsize=(10,5))\n",
    "ax.plot(collegeDataAll['sat'], collegeDataAll['colgpa'] , 'o', label=\"data\")\n",
    "ax.plot(collegeDataAll['sat'], results.fittedvalues, 'r--.', label=\"OLS\")\n",
    "ax.legend(loc='best');"
   ]
  },
  {
   "cell_type": "code",
   "execution_count": 146,
   "metadata": {},
   "outputs": [
    {
     "name": "stdout",
     "output_type": "stream",
     "text": [
      "                            OLS Regression Results                            \n",
      "==============================================================================\n",
      "Dep. Variable:                athlete   R-squared:                       0.002\n",
      "Model:                            OLS   Adj. R-squared:                  0.002\n",
      "Method:                 Least Squares   F-statistic:                     10.07\n",
      "Date:                Fri, 16 Aug 2019   Prob (F-statistic):            0.00152\n",
      "Time:                        09:32:04   Log-Likelihood:                 563.57\n",
      "No. Observations:                4137   AIC:                            -1123.\n",
      "Df Residuals:                    4135   BIC:                            -1110.\n",
      "Df Model:                           1                                         \n",
      "Covariance Type:            nonrobust                                         \n",
      "==============================================================================\n",
      "                 coef    std err          t      P>|t|      [0.025      0.975]\n",
      "------------------------------------------------------------------------------\n",
      "Intercept      0.0301      0.006      4.830      0.000       0.018       0.042\n",
      "hsize          0.0060      0.002      3.173      0.002       0.002       0.010\n",
      "==============================================================================\n",
      "Omnibus:                     3506.045   Durbin-Watson:                   1.891\n",
      "Prob(Omnibus):                  0.000   Jarque-Bera (JB):            58380.361\n",
      "Skew:                           4.271   Prob(JB):                         0.00\n",
      "Kurtosis:                      19.300   Cond. No.                         6.68\n",
      "==============================================================================\n",
      "\n",
      "Warnings:\n",
      "[1] Standard Errors assume that the covariance matrix of the errors is correctly specified.\n"
     ]
    }
   ],
   "source": [
    "# Bonus: Is the probability of being an athlete higher if the student comes from a bigger high school? (use OLS)\n",
    "results = smf.ols(formula = ' athlete ~  hsize ', data = collegeDataAll).fit()\n",
    "print(results.summary())\n",
    "\n"
   ]
  },
  {
   "cell_type": "markdown",
   "metadata": {},
   "source": [
    "# Some things to keep in mind when we run regressions"
   ]
  },
  {
   "cell_type": "markdown",
   "metadata": {},
   "source": [
    "## Linear Regressions Can Only Capture Linear Relationships\n",
    "\n",
    "Suppose for example that the true model is quadratic. That is, $ y = 1 + 1.2 x^2 + \\epsilon $, but we run a linear projection instead.\n"
   ]
  },
  {
   "cell_type": "code",
   "execution_count": 107,
   "metadata": {},
   "outputs": [
    {
     "data": {
      "text/html": [
       "<div>\n",
       "<style scoped>\n",
       "    .dataframe tbody tr th:only-of-type {\n",
       "        vertical-align: middle;\n",
       "    }\n",
       "\n",
       "    .dataframe tbody tr th {\n",
       "        vertical-align: top;\n",
       "    }\n",
       "\n",
       "    .dataframe thead th {\n",
       "        text-align: right;\n",
       "    }\n",
       "</style>\n",
       "<table border=\"1\" class=\"dataframe\">\n",
       "  <thead>\n",
       "    <tr style=\"text-align: right;\">\n",
       "      <th></th>\n",
       "      <th>Y</th>\n",
       "      <th>X</th>\n",
       "    </tr>\n",
       "  </thead>\n",
       "  <tbody>\n",
       "    <tr>\n",
       "      <th>0</th>\n",
       "      <td>151.001109</td>\n",
       "      <td>-10.000000</td>\n",
       "    </tr>\n",
       "    <tr>\n",
       "      <th>1</th>\n",
       "      <td>144.711068</td>\n",
       "      <td>-9.797980</td>\n",
       "    </tr>\n",
       "    <tr>\n",
       "      <th>2</th>\n",
       "      <td>138.007595</td>\n",
       "      <td>-9.595960</td>\n",
       "    </tr>\n",
       "    <tr>\n",
       "      <th>3</th>\n",
       "      <td>133.356263</td>\n",
       "      <td>-9.393939</td>\n",
       "    </tr>\n",
       "    <tr>\n",
       "      <th>4</th>\n",
       "      <td>127.358706</td>\n",
       "      <td>-9.191919</td>\n",
       "    </tr>\n",
       "  </tbody>\n",
       "</table>\n",
       "</div>"
      ],
      "text/plain": [
       "            Y          X\n",
       "0  151.001109 -10.000000\n",
       "1  144.711068  -9.797980\n",
       "2  138.007595  -9.595960\n",
       "3  133.356263  -9.393939\n",
       "4  127.358706  -9.191919"
      ]
     },
     "execution_count": 107,
     "metadata": {},
     "output_type": "execute_result"
    }
   ],
   "source": [
    "# Let's simulated some data to illustrate the concept\n",
    "\n",
    "np.random.seed(9)\n",
    "nsample = 100\n",
    "\n",
    "beta = 1.2\n",
    "constant = 1*np.ones( 100)\n",
    "\n",
    "x = np.linspace(-10, 10, 100)        # first we create a variable x \n",
    "e = np.random.normal(size=nsample) # then we create some random noise e\n",
    "y = constant + beta*np.square(x) + e          # then we create y by adding up x and e\n",
    "\n",
    "# Put it into a pandas dataframe\n",
    "\n",
    "simulatedData = pd.DataFrame({'Y': y, 'X': x})\n",
    "simulatedData.head()"
   ]
  },
  {
   "cell_type": "code",
   "execution_count": 108,
   "metadata": {},
   "outputs": [
    {
     "data": {
      "text/plain": [
       "<matplotlib.axes._subplots.AxesSubplot at 0x1c1a60c978>"
      ]
     },
     "execution_count": 108,
     "metadata": {},
     "output_type": "execute_result"
    },
    {
     "data": {
      "image/png": "[encoded data removed]",
      "text/plain": [
       "<Figure size 720x360 with 1 Axes>"
      ]
     },
     "metadata": {
      "needs_background": "light"
     },
     "output_type": "display_data"
    }
   ],
   "source": [
    "# Draw a scatterplot\n",
    "\n",
    "fig,ax = plt.subplots(figsize = (10,5))\n",
    "sns.scatterplot(data = simulatedData, x='X', y='Y')"
   ]
  },
  {
   "cell_type": "code",
   "execution_count": 110,
   "metadata": {},
   "outputs": [
    {
     "name": "stdout",
     "output_type": "stream",
     "text": [
      "                            OLS Regression Results                            \n",
      "==============================================================================\n",
      "Dep. Variable:                      y   R-squared:                       0.000\n",
      "Model:                            OLS   Adj. R-squared:                 -0.010\n",
      "Method:                 Least Squares   F-statistic:                 7.187e-07\n",
      "Date:                Thu, 15 Aug 2019   Prob (F-statistic):              0.999\n",
      "Time:                        20:06:23   Log-Likelihood:                -524.16\n",
      "No. Observations:                 100   AIC:                             1052.\n",
      "Df Residuals:                      98   BIC:                             1058.\n",
      "Df Model:                           1                                         \n",
      "Covariance Type:            nonrobust                                         \n",
      "==============================================================================\n",
      "                 coef    std err          t      P>|t|      [0.025      0.975]\n",
      "------------------------------------------------------------------------------\n",
      "Intercept     51.9972      4.619     11.258      0.000      42.831      61.163\n",
      "x             -0.0007      0.792     -0.001      0.999      -1.572       1.571\n",
      "==============================================================================\n",
      "Omnibus:                       14.503   Durbin-Watson:                   0.007\n",
      "Prob(Omnibus):                  0.001   Jarque-Bera (JB):                9.715\n",
      "Skew:                           0.627   Prob(JB):                      0.00777\n",
      "Kurtosis:                       2.128   Cond. No.                         5.83\n",
      "==============================================================================\n",
      "\n",
      "Warnings:\n",
      "[1] Standard Errors assume that the covariance matrix of the errors is correctly specified.\n"
     ]
    }
   ],
   "source": [
    "results = smf.ols(formula = 'y ~  x', data = simulatedData).fit()\n",
    "print(results.summary()\n",
    "fig, ax = plt.subplots(figsize=(8,6))\n",
    "ax.plot(x, y , 'o', label=\"data\")\n",
    "ax.plot(x, results.fittedvalues, 'r--.', label=\"OLS\")\n",
    "ax.legend(loc='best');"
   ]
  },
  {
   "cell_type": "code",
   "execution_count": 111,
   "metadata": {},
   "outputs": [
    {
     "data": {
      "image/png": "[encoded data removed]",
      "text/plain": [
       "<Figure size 576x432 with 1 Axes>"
      ]
     },
     "metadata": {
      "needs_background": "light"
     },
     "output_type": "display_data"
    }
   ],
   "source": []
  },
  {
   "cell_type": "markdown",
   "metadata": {},
   "source": [
    "If you see that is the case, all you need to do is to run a regression on $x^2$. Sometimes you have to take logs instead or do some other transformation. It depends on what the data looks like."
   ]
  },
  {
   "cell_type": "markdown",
   "metadata": {},
   "source": [
    "## Outliers\n",
    "\n",
    "Outliers can influence the results of the regression pretty heavily. Suppose the true model is, $ y = 1 + 1.2 x^2 + \\epsilon $, but for some reason some observation in $y$ came out super high.\n"
   ]
  },
  {
   "cell_type": "code",
   "execution_count": 114,
   "metadata": {},
   "outputs": [
    {
     "data": {
      "text/html": [
       "<div>\n",
       "<style scoped>\n",
       "    .dataframe tbody tr th:only-of-type {\n",
       "        vertical-align: middle;\n",
       "    }\n",
       "\n",
       "    .dataframe tbody tr th {\n",
       "        vertical-align: top;\n",
       "    }\n",
       "\n",
       "    .dataframe thead th {\n",
       "        text-align: right;\n",
       "    }\n",
       "</style>\n",
       "<table border=\"1\" class=\"dataframe\">\n",
       "  <thead>\n",
       "    <tr style=\"text-align: right;\">\n",
       "      <th></th>\n",
       "      <th>Y</th>\n",
       "      <th>X</th>\n",
       "    </tr>\n",
       "  </thead>\n",
       "  <tbody>\n",
       "    <tr>\n",
       "      <th>95</th>\n",
       "      <td>10.861490</td>\n",
       "      <td>9.59596</td>\n",
       "    </tr>\n",
       "    <tr>\n",
       "      <th>96</th>\n",
       "      <td>14.004356</td>\n",
       "      <td>9.69697</td>\n",
       "    </tr>\n",
       "    <tr>\n",
       "      <th>97</th>\n",
       "      <td>12.782682</td>\n",
       "      <td>9.79798</td>\n",
       "    </tr>\n",
       "    <tr>\n",
       "      <th>98</th>\n",
       "      <td>12.483306</td>\n",
       "      <td>9.89899</td>\n",
       "    </tr>\n",
       "    <tr>\n",
       "      <th>99</th>\n",
       "      <td>100.000000</td>\n",
       "      <td>10.00000</td>\n",
       "    </tr>\n",
       "  </tbody>\n",
       "</table>\n",
       "</div>"
      ],
      "text/plain": [
       "             Y         X\n",
       "95   10.861490   9.59596\n",
       "96   14.004356   9.69697\n",
       "97   12.782682   9.79798\n",
       "98   12.483306   9.89899\n",
       "99  100.000000  10.00000"
      ]
     },
     "execution_count": 114,
     "metadata": {},
     "output_type": "execute_result"
    }
   ],
   "source": [
    "# Let's simulated some data to illustrate the concept\n",
    "\n",
    "np.random.seed(9)\n",
    "nsample = 100\n",
    "\n",
    "beta = 1.2\n",
    "constant = 1*np.ones( 100)\n",
    "\n",
    "x = np.linspace(0, 10, 100)        # first we create a variable x \n",
    "e = np.random.normal(size=nsample) # then we create some random noise e\n",
    "y = constant + beta*x + e          # then we create y by adding up x and e\n",
    "y[-1] = 100;\n",
    "\n",
    "# Put it into a pandas dataframe\n",
    "\n",
    "simulatedData = pd.DataFrame({'Y': y, 'X': x})\n",
    "simulatedData.tail()"
   ]
  },
  {
   "cell_type": "code",
   "execution_count": 115,
   "metadata": {},
   "outputs": [
    {
     "data": {
      "text/plain": [
       "<matplotlib.axes._subplots.AxesSubplot at 0x1c1e9b6978>"
      ]
     },
     "execution_count": 115,
     "metadata": {},
     "output_type": "execute_result"
    },
    {
     "data": {
      "image/png": "[encoded data removed]",
      "text/plain": [
       "<Figure size 720x360 with 1 Axes>"
      ]
     },
     "metadata": {
      "needs_background": "light"
     },
     "output_type": "display_data"
    }
   ],
   "source": [
    "# Draw a scatterplot\n",
    "fig,ax = plt.subplots(figsize = (10,5))\n",
    "sns.scatterplot(data = simulatedData, x='X', y='Y')"
   ]
  },
  {
   "cell_type": "code",
   "execution_count": 117,
   "metadata": {},
   "outputs": [
    {
     "name": "stdout",
     "output_type": "stream",
     "text": [
      "                            OLS Regression Results                            \n",
      "==============================================================================\n",
      "Dep. Variable:                      y   R-squared:                       0.250\n",
      "Model:                            OLS   Adj. R-squared:                  0.242\n",
      "Method:                 Least Squares   F-statistic:                     32.69\n",
      "Date:                Thu, 15 Aug 2019   Prob (F-statistic):           1.17e-07\n",
      "Time:                        20:16:06   Log-Likelihood:                -357.03\n",
      "No. Observations:                 100   AIC:                             718.1\n",
      "Df Residuals:                      98   BIC:                             723.3\n",
      "Df Model:                           1                                         \n",
      "Covariance Type:            nonrobust                                         \n",
      "==============================================================================\n",
      "                 coef    std err          t      P>|t|      [0.025      0.975]\n",
      "------------------------------------------------------------------------------\n",
      "Intercept     -0.6695      1.724     -0.388      0.699      -4.090       2.751\n",
      "x              1.7028      0.298      5.717      0.000       1.112       2.294\n",
      "==============================================================================\n",
      "Omnibus:                      208.157   Durbin-Watson:                   1.061\n",
      "Prob(Omnibus):                  0.000   Jarque-Bera (JB):            32669.503\n",
      "Skew:                           9.197   Prob(JB):                         0.00\n",
      "Kurtosis:                      89.616   Cond. No.                         11.7\n",
      "==============================================================================\n",
      "\n",
      "Warnings:\n",
      "[1] Standard Errors assume that the covariance matrix of the errors is correctly specified.\n"
     ]
    },
    {
     "data": {
      "image/png": "[encoded data removed]",
      "text/plain": [
       "<Figure size 576x432 with 1 Axes>"
      ]
     },
     "metadata": {
      "needs_background": "light"
     },
     "output_type": "display_data"
    }
   ],
   "source": [
    "# Run regression and plot results\n",
    "\n",
    "results = smf.ols(formula = 'y ~  x', data = simulatedData).fit()\n",
    "print(results.summary())\n",
    "\n",
    "fig, ax = plt.subplots(figsize=(10,5))\n",
    "ax.plot(x, y , 'o', label=\"data\")\n",
    "ax.plot(x, results.fittedvalues, 'r--.', label=\"OLS\")\n",
    "ax.legend(loc='best');"
   ]
  },
  {
   "cell_type": "code",
   "execution_count": 123,
   "metadata": {},
   "outputs": [
    {
     "name": "stdout",
     "output_type": "stream",
     "text": [
      "                            OLS Regression Results                            \n",
      "==============================================================================\n",
      "Dep. Variable:                      Y   R-squared:                       0.916\n",
      "Model:                            OLS   Adj. R-squared:                  0.915\n",
      "Method:                 Least Squares   F-statistic:                     1055.\n",
      "Date:                Thu, 15 Aug 2019   Prob (F-statistic):           6.25e-54\n",
      "Time:                        20:37:29   Log-Likelihood:                -144.54\n",
      "No. Observations:                  99   AIC:                             293.1\n",
      "Df Residuals:                      97   BIC:                             298.3\n",
      "Df Model:                           1                                         \n",
      "Covariance Type:            nonrobust                                         \n",
      "==============================================================================\n",
      "                 coef    std err          t      P>|t|      [0.025      0.975]\n",
      "------------------------------------------------------------------------------\n",
      "Intercept      1.0202      0.210      4.858      0.000       0.603       1.437\n",
      "X              1.1907      0.037     32.488      0.000       1.118       1.263\n",
      "==============================================================================\n",
      "Omnibus:                        1.559   Durbin-Watson:                   1.971\n",
      "Prob(Omnibus):                  0.459   Jarque-Bera (JB):                1.015\n",
      "Skew:                          -0.186   Prob(JB):                        0.602\n",
      "Kurtosis:                       3.329   Cond. No.                         11.6\n",
      "==============================================================================\n",
      "\n",
      "Warnings:\n",
      "[1] Standard Errors assume that the covariance matrix of the errors is correctly specified.\n"
     ]
    },
    {
     "data": {
      "image/png": "[encoded data removed]",
      "text/plain": [
       "<Figure size 720x360 with 1 Axes>"
      ]
     },
     "metadata": {
      "needs_background": "light"
     },
     "output_type": "display_data"
    }
   ],
   "source": [
    "# Let's get rid of the outliers\n",
    "\n",
    "simulatedDataClean = simulatedData[simulatedData['Y']<simulatedData['Y'].quantile(0.99)]\n",
    "\n",
    "results = smf.ols(formula = 'Y ~  X', data = simulatedDataClean).fit()\n",
    "print(results.summary())\n",
    "\n",
    "fig, ax = plt.subplots(figsize=(10,5))\n",
    "ax.plot(simulatedDataClean['X'], simulatedDataClean['Y'] , 'o', label=\"data\")\n",
    "ax.plot(simulatedDataClean['X'], results.fittedvalues, 'r--.', label=\"OLS\")\n",
    "ax.legend(loc='best');\n",
    "\n",
    "\n",
    "\n"
   ]
  },
  {
   "cell_type": "markdown",
   "metadata": {},
   "source": [
    "# Exercise\n",
    "\n",
    "- Draw a histogram of high school sizes in the sample\n",
    "- Get rid of the 1st and 99th percentile of high school size and draw a histogram again\n",
    "- Fit a quadratic regression using high school size to predict college GPA. Summarize your results.\n",
    "- Is there evidence that adding a quadratic term improves the quality of our predictions?\n"
   ]
  },
  {
   "cell_type": "code",
   "execution_count": 147,
   "metadata": {},
   "outputs": [
    {
     "data": {
      "text/plain": [
       "<matplotlib.axes._subplots.AxesSubplot at 0x1c1ee59cc0>"
      ]
     },
     "execution_count": 147,
     "metadata": {},
     "output_type": "execute_result"
    },
    {
     "data": {
      "image/png": "[encoded data removed]",
      "text/plain": [
       "<Figure size 432x288 with 1 Axes>"
      ]
     },
     "metadata": {
      "needs_background": "light"
     },
     "output_type": "display_data"
    }
   ],
   "source": [
    "# Draw a histogram of high school sizes in the sample\n",
    "sns.distplot(collegeDataAll['hsize'])"
   ]
  },
  {
   "cell_type": "code",
   "execution_count": 149,
   "metadata": {},
   "outputs": [
    {
     "data": {
      "text/plain": [
       "<matplotlib.axes._subplots.AxesSubplot at 0x1c1ee81320>"
      ]
     },
     "execution_count": 149,
     "metadata": {},
     "output_type": "execute_result"
    },
    {
     "data": {
      "image/png": "[encoded data removed]",
      "text/plain": [
       "<Figure size 432x288 with 1 Axes>"
      ]
     },
     "metadata": {
      "needs_background": "light"
     },
     "output_type": "display_data"
    }
   ],
   "source": [
    "# Get rid of the 1st and 99th percentile of high school size\n",
    "collegeDataClean = collegeDataAll[collegeDataAll['hsize']<collegeDataAll['hsize'].quantile(0.99)]\n",
    "collegeDataClean = collegeDataClean[collegeDataClean['hsize']>collegeDataClean['hsize'].quantile(0.01)]\n",
    "sns.distplot(collegeDataClean['hsize'])"
   ]
  },
  {
   "cell_type": "code",
   "execution_count": 161,
   "metadata": {},
   "outputs": [
    {
     "data": {
      "text/plain": [
       "count    3953.000000\n",
       "mean        2.833863\n",
       "std         1.611536\n",
       "min         0.110000\n",
       "25%         1.760000\n",
       "50%         2.540000\n",
       "75%         3.680000\n",
       "max         7.150000\n",
       "Name: hsize, dtype: float64"
      ]
     },
     "execution_count": 161,
     "metadata": {},
     "output_type": "execute_result"
    }
   ],
   "source": [
    "# Fit a quadratic regression using high school size to predict college GPA\n",
    "\n",
    "# First create hsize squared\n",
    "hsize = np.array(collegeDataClean['hsize'])\n",
    "collegeDataClean['hsizeSquared'] = pd.DataFrame(hsizeSquared)\n",
    "\n",
    "# Run the regression\n",
    "results = smf.ols(formula = 'colgpa ~  hsize + hsizeSquared', data = collegeDataClean).fit()\n",
    "\n",
    "collegeDataClean['hsize'].describe()"
   ]
  },
  {
   "cell_type": "code",
   "execution_count": 156,
   "metadata": {},
   "outputs": [
    {
     "name": "stdout",
     "output_type": "stream",
     "text": [
      "                            OLS Regression Results                            \n",
      "==============================================================================\n",
      "Dep. Variable:                 colgpa   R-squared:                       0.001\n",
      "Model:                            OLS   Adj. R-squared:                  0.001\n",
      "Method:                 Least Squares   F-statistic:                     2.058\n",
      "Date:                Fri, 16 Aug 2019   Prob (F-statistic):              0.128\n",
      "Time:                        09:41:29   Log-Likelihood:                -3801.2\n",
      "No. Observations:                3796   AIC:                             7608.\n",
      "Df Residuals:                    3793   BIC:                             7627.\n",
      "Df Model:                           2                                         \n",
      "Covariance Type:            nonrobust                                         \n",
      "================================================================================\n",
      "                   coef    std err          t      P>|t|      [0.025      0.975]\n",
      "--------------------------------------------------------------------------------\n",
      "Intercept        2.6853      0.024    112.350      0.000       2.638       2.732\n",
      "hsize           -0.0126      0.007     -1.882      0.060      -0.026       0.001\n",
      "hsizeSquared     0.0007      0.001      0.729      0.466      -0.001       0.002\n",
      "==============================================================================\n",
      "Omnibus:                       35.201   Durbin-Watson:                   1.934\n",
      "Prob(Omnibus):                  0.000   Jarque-Bera (JB):               36.028\n",
      "Skew:                          -0.229   Prob(JB):                     1.50e-08\n",
      "Kurtosis:                       3.131   Cond. No.                         36.3\n",
      "==============================================================================\n",
      "\n",
      "Warnings:\n",
      "[1] Standard Errors assume that the covariance matrix of the errors is correctly specified.\n"
     ]
    }
   ],
   "source": [
    "# Summarize your results\n",
    "print(results.summary())\n"
   ]
  },
  {
   "cell_type": "markdown",
   "metadata": {},
   "source": [
    "## Correlation is not causation!\n",
    "\n",
    "Let's see what happens if we run a regression of consumption of margarine butter on divorces in Maine. These are real data taken from Census and US Department of Agriculture."
   ]
  },
  {
   "cell_type": "code",
   "execution_count": 1,
   "metadata": {},
   "outputs": [
    {
     "ename": "NameError",
     "evalue": "name 'pd' is not defined",
     "output_type": "error",
     "traceback": [
      "\u001b[0;31m---------------------------------------------------------------------------\u001b[0m",
      "\u001b[0;31mNameError\u001b[0m                                 Traceback (most recent call last)",
      "\u001b[0;32m<ipython-input-1-f23cf97c113d>\u001b[0m in \u001b[0;36m<module>\u001b[0;34m\u001b[0m\n\u001b[0;32m----> 1\u001b[0;31m \u001b[0mcrazyData\u001b[0m \u001b[0;34m=\u001b[0m \u001b[0mpd\u001b[0m\u001b[0;34m.\u001b[0m\u001b[0mread_csv\u001b[0m\u001b[0;34m(\u001b[0m\u001b[0;34m'margarine_and_divorce.csv'\u001b[0m\u001b[0;34m)\u001b[0m\u001b[0;34m\u001b[0m\u001b[0;34m\u001b[0m\u001b[0m\n\u001b[0m\u001b[1;32m      2\u001b[0m \u001b[0mcrazyData\u001b[0m\u001b[0;34m.\u001b[0m\u001b[0mhead\u001b[0m\u001b[0;34m(\u001b[0m\u001b[0;34m)\u001b[0m\u001b[0;34m\u001b[0m\u001b[0;34m\u001b[0m\u001b[0m\n",
      "\u001b[0;31mNameError\u001b[0m: name 'pd' is not defined"
     ]
    }
   ],
   "source": [
    "crazyData = pd.read_csv('margarine_and_divorce.csv')\n",
    "crazyData.head()"
   ]
  },
  {
   "cell_type": "code",
   "execution_count": 2,
   "metadata": {},
   "outputs": [
    {
     "ename": "NameError",
     "evalue": "name 'smf' is not defined",
     "output_type": "error",
     "traceback": [
      "\u001b[0;31m---------------------------------------------------------------------------\u001b[0m",
      "\u001b[0;31mNameError\u001b[0m                                 Traceback (most recent call last)",
      "\u001b[0;32m<ipython-input-2-24c0635d7da2>\u001b[0m in \u001b[0;36m<module>\u001b[0;34m\u001b[0m\n\u001b[0;32m----> 1\u001b[0;31m \u001b[0mmodel\u001b[0m \u001b[0;34m=\u001b[0m \u001b[0msmf\u001b[0m\u001b[0;34m.\u001b[0m\u001b[0mols\u001b[0m\u001b[0;34m(\u001b[0m\u001b[0mformula\u001b[0m \u001b[0;34m=\u001b[0m \u001b[0;34m'divorce_rate_maine ~  margarine_consumption'\u001b[0m\u001b[0;34m,\u001b[0m \u001b[0mdata\u001b[0m \u001b[0;34m=\u001b[0m \u001b[0mcrazyData\u001b[0m\u001b[0;34m)\u001b[0m\u001b[0;34m\u001b[0m\u001b[0;34m\u001b[0m\u001b[0m\n\u001b[0m\u001b[1;32m      2\u001b[0m \u001b[0mresults\u001b[0m \u001b[0;34m=\u001b[0m \u001b[0mmodel\u001b[0m\u001b[0;34m.\u001b[0m\u001b[0mfit\u001b[0m\u001b[0;34m(\u001b[0m\u001b[0;34m)\u001b[0m\u001b[0;34m\u001b[0m\u001b[0;34m\u001b[0m\u001b[0m\n\u001b[1;32m      3\u001b[0m \u001b[0mprint\u001b[0m\u001b[0;34m(\u001b[0m\u001b[0mresults\u001b[0m\u001b[0;34m.\u001b[0m\u001b[0msummary\u001b[0m\u001b[0;34m(\u001b[0m\u001b[0;34m)\u001b[0m\u001b[0;34m)\u001b[0m\u001b[0;34m\u001b[0m\u001b[0;34m\u001b[0m\u001b[0m\n",
      "\u001b[0;31mNameError\u001b[0m: name 'smf' is not defined"
     ]
    }
   ],
   "source": [
    "model = smf.ols(formula = 'divorce_rate_maine ~  margarine_consumption', data = crazyData)\n",
    "results = model.fit()\n",
    "print(results.summary())"
   ]
  },
  {
   "cell_type": "markdown",
   "metadata": {},
   "source": [
    "Is this telling us that the fact that people eat more butter is leading to more divorces in Maine?!\n",
    "\n",
    "Not really, what's going on is that these variables happen to be strongly correlated by chance, because they are both going down over time: http://tylervigen.com/spurious-correlations"
   ]
  },
  {
   "cell_type": "markdown",
   "metadata": {},
   "source": [
    "## Error Distribution and Central Limit Theorem\n",
    "\n",
    "Do the errors need to be normally distributed to perform tests and calculate confidence intervals?\n",
    "\n",
    "It depends. There is a cool theorem called Central Limit Theorem that says that under some assumptions, if the errors are independent and identically distributed and if we have enough observations (say, more than a hundred?) then the estimators for the coefficients will be normally distributed regardless of the error distribution, so we have no problem for doing all the tests."
   ]
  },
  {
   "cell_type": "markdown",
   "metadata": {},
   "source": [
    "# Extra\n",
    "\n",
    "What about clustering, robust standard errors, panel data regressions, generalized least squares, maximum likelihood estimation, time series, vector autoregressions ...? \n",
    "\n",
    "Check out the statsmodels documentation!\n",
    "\n",
    "https://www.statsmodels.org/stable/regression.html\n",
    "https://www.statsmodels.org/stable/index.html\n",
    "\n"
   ]
  },
  {
   "cell_type": "code",
   "execution_count": null,
   "metadata": {},
   "outputs": [],
   "source": []
  }
 ],
 "metadata": {
  "kernelspec": {
   "display_name": "Python 3",
   "language": "python",
   "name": "python3"
  },
  "language_info": {
   "codemirror_mode": {
    "name": "ipython",
    "version": 3
   },
   "file_extension": ".py",
   "mimetype": "text/x-python",
   "name": "python",
   "nbconvert_exporter": "python",
   "pygments_lexer": "ipython3",
   "version": "3.7.3"
  }
 },
 "nbformat": 4,
 "nbformat_minor": 2
}
