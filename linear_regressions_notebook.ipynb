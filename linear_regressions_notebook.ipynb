{
 "cells": [
  {
   "cell_type": "code",
   "execution_count": null,
   "metadata": {},
   "outputs": [],
   "source": [
    "# Import libraries\n",
    "\n",
    "import numpy as np\n",
    "import pandas as pd\n",
    "import matplotlib.pyplot as plt\n",
    "import seaborn as sns\n",
    "\n",
    "import statsmodels.api as sm\n",
    "import statsmodels.formula.api as smf\n",
    "from statsmodels.sandbox.regression.predstd import wls_prediction_std\n",
    "\n"
   ]
  },
  {
   "cell_type": "markdown",
   "metadata": {},
   "source": [
    "# Linear Regressions\n",
    "\n",
    "\n",
    "A linear regression is the “Best Fitting” line through a cloud of points.\n",
    "\n",
    "The criterior that we will choose to decide which line is the \"Best Fitting\" is the sum of squared vertical deviations. We refer to the resulting estimator as Ordinary Least Squares (OLS)\n",
    "\n",
    "https://fditraglia.shinyapps.io/regression/\n",
    "\n"
   ]
  },
  {
   "cell_type": "markdown",
   "metadata": {},
   "source": [
    "# Example 1: College Data\n",
    "\n",
    "Suppose we are interested in the relationship between SAT scores and college GPA. Is a high SAT score related to a high college GPA? Can we predict your college GPA based on your SAT score?\n",
    " \n",
    " Let's import the data and see. This datset contains information on 4137 students from a mid-sized research university that supports men's and women's athletics at the Division I level.\n",
    "\n",
    "The variables we are interested in are:\n",
    " \n",
    "**colgpa**:   College GPA on a four point scale\n",
    "\n",
    "**sat**:      Combined SAT score (verbal plus math)\n",
    "\n",
    "\n"
   ]
  },
  {
   "cell_type": "code",
   "execution_count": null,
   "metadata": {},
   "outputs": [],
   "source": [
    "# Import data\n",
    "\n",
    "collegeDataAll = pd.read_csv('college_gpa.csv')\n",
    "\n",
    "collegeData = collegeDataAll[['sat','colgpa']]\n",
    "collegeData.head()"
   ]
  },
  {
   "cell_type": "code",
   "execution_count": null,
   "metadata": {},
   "outputs": [],
   "source": [
    "# Explore what the two variables look like\n",
    "\n"
   ]
  },
  {
   "cell_type": "code",
   "execution_count": null,
   "metadata": {},
   "outputs": [],
   "source": [
    "# Plot data with a scatter plot\n",
    "\n"
   ]
  },
  {
   "cell_type": "markdown",
   "metadata": {},
   "source": [
    "Once we have had a look at the data, let's do our regression!\n",
    "\n",
    "Our statistical model is:\n",
    "\n",
    "\\begin{equation}\n",
    "\\text{college GPA} = \\alpha + \\beta \\ \\text{SAT score} + \\epsilon\n",
    "\\end{equation}\n",
    "\n",
    "We are going to use OLS to get the coefficients.\n"
   ]
  },
  {
   "cell_type": "code",
   "execution_count": null,
   "metadata": {},
   "outputs": [],
   "source": [
    "# Do a linear regression (OLS)\n",
    "\n",
    "model = smf.ols(formula = 'colgpa ~  sat', data = collegeData)\n",
    "results = model.fit()\n",
    "print(results.summary())\n"
   ]
  },
  {
   "cell_type": "code",
   "execution_count": null,
   "metadata": {
    "scrolled": true
   },
   "outputs": [],
   "source": [
    "# Extract parameters\n",
    "\n",
    "print('Parameters: ', results.params)\n",
    "print('Standard errors: ', results.bse)\n",
    "print('R2: ', results.rsquared)\n"
   ]
  },
  {
   "cell_type": "markdown",
   "metadata": {},
   "source": [
    "### Interpretation\n",
    "\n",
    "Let's interpret the coefficients related to SAT (0.0019). What does it mean?\n",
    "\n",
    "- First of all it is positive. That means that a higher SAT is associated with a higher college GPA.\n",
    "\n",
    "- 100 points more in the SAT are associated to $100*0.0019 = 0.19$ points more in the college GPA.\n",
    "\n",
    "- Is it statistically significant? Yes, look at the P-value and the confidence interval.\n",
    "\n",
    "- Is it 'practically' significant? (is 0.19 a lot?)\n",
    "\n",
    "- Does the SAT explain a lot of the variation in the college GPA? I would say so, $R^2$ is 0.16.\n",
    "\n",
    "**Prediction**: if your SAT score was 1300, your college GPA will be around to $0.663 + 1300*0.0019 = 3.13$ \n",
    "\n",
    "\n"
   ]
  },
  {
   "cell_type": "markdown",
   "metadata": {},
   "source": [
    "### Fitted values\n",
    "\n"
   ]
  },
  {
   "cell_type": "code",
   "execution_count": null,
   "metadata": {},
   "outputs": [],
   "source": [
    "print('Predicted values: ', results.predict())"
   ]
  },
  {
   "cell_type": "code",
   "execution_count": null,
   "metadata": {},
   "outputs": [],
   "source": [
    "# Create confidence intervals\n",
    "prstd, lowerBounds, upperBounds = wls_prediction_std(results)\n",
    "\n",
    "fig, ax = plt.subplots(figsize=(8,6))\n",
    "\n",
    "ax.plot(collegeData['sat'], collegeData['colgpa'] , 'o', label=\"data\")\n",
    "ax.plot(collegeData['sat'], results.fittedvalues, 'r--.', label=\"OLS\")\n",
    "ax.plot(collegeData['sat'], lowerBounds, 'r--')\n",
    "ax.plot(collegeData['sat'], upperBounds, 'r--')\n",
    "ax.legend(loc='best');\n"
   ]
  },
  {
   "cell_type": "markdown",
   "metadata": {},
   "source": [
    "## Multivariate linear regression\n",
    "\n",
    "Let's do another linear regression, with two variables now. Let's add high school performance to the list of variables that might predict college GPA.\n",
    " \n",
    "The variables we are interested in now are:\n",
    " \n",
    "**colgpa**:   College GPA on a four point scale\n",
    "\n",
    "**sat**:      Combined SAT score (verbal plus math)\n",
    "\n",
    "**hsperc**   Percentile in HS graduating class (hsperc = 5 top 5%)\n",
    "\n",
    "and our statistical model is \n",
    "\n",
    "\\begin{equation}\n",
    "\\text{college GPA} = \\alpha + \\beta_1 \\ \\text{SAT score} +  \\beta_2 \\ \\text{HS percentile} + \\epsilon\n",
    "\\end{equation}\n"
   ]
  },
  {
   "cell_type": "code",
   "execution_count": null,
   "metadata": {},
   "outputs": [],
   "source": [
    "# Let's first have a look at what hsperc looks like\n"
   ]
  },
  {
   "cell_type": "code",
   "execution_count": null,
   "metadata": {},
   "outputs": [],
   "source": [
    "# Run the regression\n"
   ]
  },
  {
   "cell_type": "markdown",
   "metadata": {},
   "source": [
    "### Interpretation\n",
    "\n",
    "- What is the coefficient on HS percentile?\n",
    "\n",
    "- What happened to the coefficient on SAT score once we introduced HS percentile? Why do you think that is?\n",
    "\n",
    "**Research** : how many variables and which variables should I include in a regression? This is not an easy question at all! :)\n"
   ]
  },
  {
   "cell_type": "markdown",
   "metadata": {},
   "source": [
    "## Dummy Variables, or difference in intercept\n",
    "\n",
    "Suppose we want to check whether women have higher or lower GPA (formally, if the intercept is higher for athlethes)\n",
    "\n",
    "We want to use the variable:\n",
    "\n",
    "**female**:  Dummy variable equal to 1 if an athlete\n",
    "\n",
    "\n"
   ]
  },
  {
   "cell_type": "code",
   "execution_count": null,
   "metadata": {},
   "outputs": [],
   "source": [
    "## Let's check what the variable female looks like\n",
    "collegeDataAll.head(10)"
   ]
  },
  {
   "cell_type": "code",
   "execution_count": null,
   "metadata": {},
   "outputs": [],
   "source": [
    "## Regression with dummy variables\n",
    "\n"
   ]
  },
  {
   "cell_type": "markdown",
   "metadata": {},
   "source": [
    "## Interactions, or difference in slopes\n",
    "\n",
    "What about, is it the case that women with a high SAT score perform better than men with a high SAT score?\n"
   ]
  },
  {
   "cell_type": "code",
   "execution_count": null,
   "metadata": {},
   "outputs": [],
   "source": []
  },
  {
   "cell_type": "markdown",
   "metadata": {},
   "source": [
    "# Exercise:\n",
    "\n",
    "\n",
    "- Report how many athletes there are in the school.\n",
    "- Do athletes have a higher GPA on average? Is the difference significant?\n",
    "- Run a regression of college GPA on Sat scores, using two different intercept for athlethes and non athletes. Report the coefficients and plot the data and the regression curves.\n",
    "\n",
    "Bonus:\n",
    "\n",
    "- Is the probability of being an athlete higher if the student comes from a bigger high school? (use OLS, we will see logit/probit in the future). \n",
    "\n",
    "\n",
    "For this exercise, on top of the ones we used already, use the variables:\n",
    "**athlete**: Dummy variable equal to 1 if an athlete\n",
    "**hsize**:   Size of high school (HS) graduating class in hundreds"
   ]
  },
  {
   "cell_type": "code",
   "execution_count": null,
   "metadata": {},
   "outputs": [],
   "source": [
    "# Report how many athletes there are in the school."
   ]
  },
  {
   "cell_type": "code",
   "execution_count": null,
   "metadata": {},
   "outputs": [],
   "source": [
    "# Do athletes have a higher GPA on average? Is the difference significant?"
   ]
  },
  {
   "cell_type": "code",
   "execution_count": null,
   "metadata": {},
   "outputs": [],
   "source": [
    "# Run a regression of college GPA on Sat scores, using two different intercept for athlethes and non athletes,\n",
    "# and report the coefficients."
   ]
  },
  {
   "cell_type": "code",
   "execution_count": null,
   "metadata": {},
   "outputs": [],
   "source": [
    "# Plot the data and the regression curves."
   ]
  },
  {
   "cell_type": "code",
   "execution_count": null,
   "metadata": {},
   "outputs": [],
   "source": [
    "# Bonus: Is the probability of being an athlete higher if the student comes from a bigger high school? (use OLS)"
   ]
  },
  {
   "cell_type": "markdown",
   "metadata": {},
   "source": [
    "# Some things to keep in mind when we run regressions"
   ]
  },
  {
   "cell_type": "markdown",
   "metadata": {},
   "source": [
    "## Linear Regressions Can Only Capture Linear Relationships\n",
    "\n",
    "Suppose for example that the true model is quadratic. That is, $ y = 1 + 1.2 x^2 + \\epsilon $, but we run a linear projection instead.\n"
   ]
  },
  {
   "cell_type": "code",
   "execution_count": null,
   "metadata": {},
   "outputs": [],
   "source": [
    "# Let's simulated some data to illustrate the concept\n",
    "\n",
    "np.random.seed(9)\n",
    "nsample = 100\n",
    "\n",
    "beta = 1.2\n",
    "constant = 1*np.ones( 100)\n",
    "\n",
    "x = np.linspace(-10, 10, 100)        # first we create a variable x \n",
    "e = np.random.normal(size=nsample) # then we create some random noise e\n",
    "y = constant + beta*np.square(x) + e          # then we create y by adding up x and e\n",
    "\n",
    "# Put it into a pandas dataframe\n",
    "\n",
    "simulatedData = pd.DataFrame({'Y': y, 'X': x})\n",
    "simulatedData.head()"
   ]
  },
  {
   "cell_type": "code",
   "execution_count": null,
   "metadata": {},
   "outputs": [],
   "source": [
    "# Draw a scatterplot\n",
    "\n",
    "fig,ax = plt.subplots(figsize = (10,5))\n",
    "sns.scatterplot(data = simulatedData, x='X', y='Y')"
   ]
  },
  {
   "cell_type": "code",
   "execution_count": null,
   "metadata": {},
   "outputs": [],
   "source": [
    "# Run regression\n",
    "\n",
    "results = smf.ols(formula = 'y ~  x', data = simulatedData).fit()\n",
    "print(results.summary()\n",
    "fig, ax = plt.subplots(figsize=(8,6))\n",
    "ax.plot(x, y , 'o', label=\"data\")\n",
    "ax.plot(x, results.fittedvalues, 'r--.', label=\"OLS\")\n",
    "ax.legend(loc='best');"
   ]
  },
  {
   "cell_type": "markdown",
   "metadata": {},
   "source": [
    "If you see that is the case, all you need to do is to run a regression on $x^2$. Sometimes you have to take logs instead or do some other transformation. It depends on what the data looks like."
   ]
  },
  {
   "cell_type": "markdown",
   "metadata": {},
   "source": [
    "## Outliers\n",
    "\n",
    "Outliers can influence the results of the regression pretty heavily. Suppose the true model is, $ y = 1 + 1.2 x^2 + \\epsilon $, but for some reason some observation in $y$ came out super high.\n"
   ]
  },
  {
   "cell_type": "code",
   "execution_count": null,
   "metadata": {},
   "outputs": [],
   "source": [
    "# Let's simulated some data to illustrate the concept\n",
    "\n",
    "np.random.seed(9)\n",
    "nsample = 100\n",
    "\n",
    "beta = 1.2\n",
    "constant = 1*np.ones( 100)\n",
    "\n",
    "x = np.linspace(0, 10, 100)        # first we create a variable x \n",
    "e = np.random.normal(size=nsample) # then we create some random noise e\n",
    "y = constant + beta*x + e          # then we create y by adding up x and e\n",
    "y[-1] = 100;\n",
    "\n",
    "# Put it into a pandas dataframe\n",
    "\n",
    "simulatedData = pd.DataFrame({'Y': y, 'X': x})\n",
    "simulatedData.tail()"
   ]
  },
  {
   "cell_type": "code",
   "execution_count": null,
   "metadata": {},
   "outputs": [],
   "source": [
    "# Draw a scatterplot\n",
    "fig,ax = plt.subplots(figsize = (10,5))\n",
    "sns.scatterplot(data = simulatedData, x='X', y='Y')"
   ]
  },
  {
   "cell_type": "code",
   "execution_count": null,
   "metadata": {},
   "outputs": [],
   "source": [
    "# Run regression and plot results\n",
    "\n",
    "results = smf.ols(formula = 'y ~  x', data = simulatedData).fit()\n",
    "print(results.summary())\n",
    "\n",
    "fig, ax = plt.subplots(figsize=(10,5))\n",
    "ax.plot(x, y , 'o', label=\"data\")\n",
    "ax.plot(x, results.fittedvalues, 'r--.', label=\"OLS\")\n",
    "ax.legend(loc='best');"
   ]
  },
  {
   "cell_type": "code",
   "execution_count": null,
   "metadata": {},
   "outputs": [],
   "source": [
    "# Let's get rid of the outliers\n",
    "\n",
    "simulatedDataClean = simulatedData[simulatedData['Y']<simulatedData['Y'].quantile(0.99)]\n",
    "\n",
    "results = smf.ols(formula = 'Y ~  X', data = simulatedDataClean).fit()\n",
    "print(results.summary())\n",
    "\n",
    "fig, ax = plt.subplots(figsize=(10,5))\n",
    "ax.plot(simulatedDataClean['X'], simulatedDataClean['Y'] , 'o', label=\"data\")\n",
    "ax.plot(simulatedDataClean['X'], results.fittedvalues, 'r--.', label=\"OLS\")\n",
    "ax.legend(loc='best');\n",
    "\n",
    "\n",
    "\n"
   ]
  },
  {
   "cell_type": "markdown",
   "metadata": {},
   "source": [
    "# Exercise\n",
    "\n",
    "- Draw a histogram of high school sizes in the sample\n",
    "- Get rid of the 1st and 99th percentile of high school size and draw a histogram again\n",
    "- Fit a quadratic regression using high school size to predict college GPA. (that means, use hsize and hsize squared). Summarize your results.\n",
    "- Is there evidence that adding a quadratic term improves the quality of our predictions?\n"
   ]
  },
  {
   "cell_type": "code",
   "execution_count": null,
   "metadata": {},
   "outputs": [],
   "source": [
    "# Draw a histogram of high school sizes in the sample"
   ]
  },
  {
   "cell_type": "code",
   "execution_count": null,
   "metadata": {},
   "outputs": [],
   "source": [
    "# Get rid of the 1st and 99th percentile of high school size and draw a histogram again\n"
   ]
  },
  {
   "cell_type": "code",
   "execution_count": null,
   "metadata": {},
   "outputs": [],
   "source": [
    "# Fit a quadratic regression using high school size to predict college GPA\n",
    "# First create hsize squared\n",
    "# Then run the regression\n"
   ]
  },
  {
   "cell_type": "code",
   "execution_count": null,
   "metadata": {},
   "outputs": [],
   "source": [
    "# Summarize your results"
   ]
  },
  {
   "cell_type": "markdown",
   "metadata": {},
   "source": [
    "## Correlation is not causation!\n",
    "\n",
    "Let's see what happens if we run a regression of consumption of margarine butter on divorces in Maine. These are real data taken from Census and US Department of Agriculture."
   ]
  },
  {
   "cell_type": "code",
   "execution_count": null,
   "metadata": {},
   "outputs": [],
   "source": [
    "crazyData = pd.read_csv('margarine_and_divorce.csv')\n",
    "crazyData.head()"
   ]
  },
  {
   "cell_type": "code",
   "execution_count": null,
   "metadata": {},
   "outputs": [],
   "source": [
    "model = smf.ols(formula = 'divorce_rate_maine ~  margarine_consumption', data = crazyData)\n",
    "results = model.fit()\n",
    "print(results.summary())"
   ]
  },
  {
   "cell_type": "markdown",
   "metadata": {},
   "source": [
    "Is this telling us that the fact that people are eating more butter is leading to more divorces in Maine?!\n",
    "\n",
    "Not really, what's going on is that these variables happen to be strongly correlated by chance: http://tylervigen.com/spurious-correlations"
   ]
  },
  {
   "cell_type": "markdown",
   "metadata": {},
   "source": [
    "## Error Distribution and Central Limit Theorem\n",
    "\n",
    "Do the errors need to be normally distributed to perform tests and calculate confidence intervals?\n",
    "\n",
    "It depends. There is a cool theorem called Central Limit Theorem that says that under some assumptions, if the errors are independent and identically distributed and if we have enough observations (say, more than a hundred?) then the estimators for the coefficients will be normally distributed regardless of the error distribution, so we have no problem for doing all the tests."
   ]
  },
  {
   "cell_type": "markdown",
   "metadata": {},
   "source": [
    "# Extra\n",
    "\n",
    "What about clustering, robust standard errors, panel data regressions, generalized least squares, maximum likelihood estimation, time series, vector autoregressions ...? \n",
    "\n",
    "Check out the statsmodels documentation!\n",
    "\n",
    "https://www.statsmodels.org/stable/regression.html\n",
    "https://www.statsmodels.org/stable/index.html\n",
    "\n"
   ]
  },
  {
   "cell_type": "code",
   "execution_count": null,
   "metadata": {},
   "outputs": [],
   "source": []
  }
 ],
 "metadata": {
  "kernelspec": {
   "display_name": "Python 3",
   "language": "python",
   "name": "python3"
  },
  "language_info": {
   "codemirror_mode": {
    "name": "ipython",
    "version": 3
   },
   "file_extension": ".py",
   "mimetype": "text/x-python",
   "name": "python",
   "nbconvert_exporter": "python",
   "pygments_lexer": "ipython3",
   "version": "3.7.6"
  }
 },
 "nbformat": 4,
 "nbformat_minor": 2
}
